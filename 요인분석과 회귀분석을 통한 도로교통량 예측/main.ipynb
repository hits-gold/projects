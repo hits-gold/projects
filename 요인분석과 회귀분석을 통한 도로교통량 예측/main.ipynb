{
 "cells": [
  {
   "cell_type": "markdown",
   "id": "ea40a402",
   "metadata": {},
   "source": [
    "# 주제: 제주도 도로 교통량과 유의미한 변수\n",
    "1. EDA\n",
    "2. 데이터 분석\n",
    "3. 도로관련 변수 요인분석\n",
    "4. 요인점수 적용, 미적용 회귀분석 결과 비교\n",
    "    * 요인점수 적용\n",
    "    * 요인점수 미적용\n"
   ]
  },
  {
   "cell_type": "code",
   "execution_count": 1,
   "id": "73e3426b",
   "metadata": {},
   "outputs": [],
   "source": [
    "import pandas as pd\n",
    "import numpy as np\n",
    "import matplotlib.pyplot as plt\n",
    "import seaborn as sns\n",
    "from sklearn.preprocessing import LabelEncoder\n",
    "import gc\n",
    "\n",
    "import os\n",
    "import glob\n",
    "\n",
    "# scaler\n",
    "from sklearn.preprocessing import MinMaxScaler\n",
    "\n",
    "# 요인분석\n",
    "from factor_analyzer import FactorAnalyzer\n",
    "\n",
    "# 회귀분석\n",
    "from sklearn.linear_model import Ridge\n",
    "from sklearn.linear_model import Lasso\n",
    "from sklearn.linear_model import ElasticNet\n",
    "from sklearn.linear_model import LinearRegression\n",
    "\n",
    "from sklearn.metrics import mean_absolute_error\n",
    "import time\n",
    "\n",
    "import warnings\n",
    "warnings.filterwarnings('ignore')"
   ]
  },
  {
   "cell_type": "code",
   "execution_count": 2,
   "id": "0061e82d",
   "metadata": {},
   "outputs": [],
   "source": [
    "train = pd.read_csv('dataset/train.csv')\n",
    "info = pd.read_csv('dataset/data_info.csv')"
   ]
  },
  {
   "cell_type": "markdown",
   "id": "d5affa87",
   "metadata": {},
   "source": [
    "# 1. EDA\n",
    "\n",
    "### 데이터 정보\n",
    "\n",
    "* train.csv\n",
    "    \n",
    "    * 2022년 8월 이전 데이터만 존재 (단, 날짜가 모두 연속적이지 않음)\n",
    "    * 4,701,217개의 데이터 (470만여건)\n",
    "    * target 변수 : 도로의 차량 평균 속도(km/h)\n",
    "    * 독립변수\n",
    "        * id : 샘플 별 고유 id\n",
    "        * 날짜, 시간, 교통 및 도로구간 등 22개변수"
   ]
  },
  {
   "cell_type": "code",
   "execution_count": 3,
   "id": "e13e5533",
   "metadata": {},
   "outputs": [
    {
     "name": "stdout",
     "output_type": "stream",
     "text": [
      "<class 'pandas.core.frame.DataFrame'>\n",
      "RangeIndex: 4701217 entries, 0 to 4701216\n",
      "Data columns (total 23 columns):\n",
      " #   Column                 Dtype  \n",
      "---  ------                 -----  \n",
      " 0   id                     object \n",
      " 1   base_date              int64  \n",
      " 2   day_of_week            object \n",
      " 3   base_hour              int64  \n",
      " 4   lane_count             int64  \n",
      " 5   road_rating            int64  \n",
      " 6   road_name              object \n",
      " 7   multi_linked           int64  \n",
      " 8   connect_code           int64  \n",
      " 9   maximum_speed_limit    float64\n",
      " 10  vehicle_restricted     float64\n",
      " 11  weight_restricted      float64\n",
      " 12  height_restricted      float64\n",
      " 13  road_type              int64  \n",
      " 14  start_node_name        object \n",
      " 15  start_latitude         float64\n",
      " 16  start_longitude        float64\n",
      " 17  start_turn_restricted  object \n",
      " 18  end_node_name          object \n",
      " 19  end_latitude           float64\n",
      " 20  end_longitude          float64\n",
      " 21  end_turn_restricted    object \n",
      " 22  target                 float64\n",
      "dtypes: float64(9), int64(7), object(7)\n",
      "memory usage: 825.0+ MB\n"
     ]
    }
   ],
   "source": [
    "train.info()"
   ]
  },
  {
   "cell_type": "markdown",
   "id": "072e1dea",
   "metadata": {},
   "source": [
    "### 결측치 확인"
   ]
  },
  {
   "cell_type": "code",
   "execution_count": 4,
   "id": "21954d67",
   "metadata": {},
   "outputs": [
    {
     "data": {
      "text/plain": [
       "id                       0\n",
       "base_date                0\n",
       "day_of_week              0\n",
       "base_hour                0\n",
       "lane_count               0\n",
       "road_rating              0\n",
       "road_name                0\n",
       "multi_linked             0\n",
       "connect_code             0\n",
       "maximum_speed_limit      0\n",
       "vehicle_restricted       0\n",
       "weight_restricted        0\n",
       "height_restricted        0\n",
       "road_type                0\n",
       "start_node_name          0\n",
       "start_latitude           0\n",
       "start_longitude          0\n",
       "start_turn_restricted    0\n",
       "end_node_name            0\n",
       "end_latitude             0\n",
       "end_longitude            0\n",
       "end_turn_restricted      0\n",
       "target                   0\n",
       "dtype: int64"
      ]
     },
     "execution_count": 4,
     "metadata": {},
     "output_type": "execute_result"
    }
   ],
   "source": [
    "train.isnull().sum()"
   ]
  },
  {
   "cell_type": "markdown",
   "id": "dafd5f99",
   "metadata": {},
   "source": [
    "* 결측치는 없는 것으로 확인됌."
   ]
  },
  {
   "cell_type": "markdown",
   "id": "e7726c30",
   "metadata": {},
   "source": [
    "### 데이터 자료형 변형"
   ]
  },
  {
   "cell_type": "markdown",
   "id": "d7b9051d",
   "metadata": {},
   "source": [
    "* 대부분의 값이 int64, float64로 되어 있음.\n",
    "* 데이터프레임의 용량이 크기 때문에 자료형을 변형해주지 않으면 램 용량을 초과하여 학습을 하지 못할 수도 있음.\n",
    "* int64를 가진 값 중에서 int32로 변형해도 문제가 될 값은 없음(int32범위는 +-2,147,483,647)\n",
    "* maximum_speed_limit, vehicle_restricted, weight_restricted, height_restricted, target 도 float32로 바꾸어도 문제가 되지 않음.\n",
    "* start_latitude, start_longitude, end_latitude, end_longitude 도 float32 변형할 경우 일부 정보가 소실됌.. 따라서 float64 그대로 남겨둠."
   ]
  },
  {
   "cell_type": "code",
   "execution_count": 5,
   "id": "1a89f0d7",
   "metadata": {},
   "outputs": [],
   "source": [
    "# 1차 자료형 변형\n",
    "to_int32 = [\"base_date\", \"base_hour\", \"lane_count\", \"road_rating\", \"multi_linked\", \"connect_code\", \"road_type\"]\n",
    "to_float32 = [\"vehicle_restricted\", \"height_restricted\", \"maximum_speed_limit\", \"weight_restricted\", \"target\"]\n",
    "\n",
    "for i in to_int32:\n",
    "    train[i] = train[i].astype(\"int32\")\n",
    "for j in to_float32:\n",
    "    train[j] = train[j].astype(\"float32\")\n"
   ]
  },
  {
   "cell_type": "code",
   "execution_count": 6,
   "id": "9f8d198e",
   "metadata": {},
   "outputs": [
    {
     "name": "stdout",
     "output_type": "stream",
     "text": [
      "<class 'pandas.core.frame.DataFrame'>\n",
      "RangeIndex: 4701217 entries, 0 to 4701216\n",
      "Data columns (total 23 columns):\n",
      " #   Column                 Dtype  \n",
      "---  ------                 -----  \n",
      " 0   id                     object \n",
      " 1   base_date              int32  \n",
      " 2   day_of_week            object \n",
      " 3   base_hour              int32  \n",
      " 4   lane_count             int32  \n",
      " 5   road_rating            int32  \n",
      " 6   road_name              object \n",
      " 7   multi_linked           int32  \n",
      " 8   connect_code           int32  \n",
      " 9   maximum_speed_limit    float32\n",
      " 10  vehicle_restricted     float32\n",
      " 11  weight_restricted      float32\n",
      " 12  height_restricted      float32\n",
      " 13  road_type              int32  \n",
      " 14  start_node_name        object \n",
      " 15  start_latitude         float64\n",
      " 16  start_longitude        float64\n",
      " 17  start_turn_restricted  object \n",
      " 18  end_node_name          object \n",
      " 19  end_latitude           float64\n",
      " 20  end_longitude          float64\n",
      " 21  end_turn_restricted    object \n",
      " 22  target                 float32\n",
      "dtypes: float32(5), float64(4), int32(7), object(7)\n",
      "memory usage: 609.7+ MB\n"
     ]
    }
   ],
   "source": [
    "train.info()"
   ]
  },
  {
   "cell_type": "markdown",
   "id": "b9fdcc85",
   "metadata": {},
   "source": [
    "### 한 가지 값만 존재하는 컬럼 찾기"
   ]
  },
  {
   "cell_type": "code",
   "execution_count": 7,
   "id": "e1cea781",
   "metadata": {},
   "outputs": [
    {
     "data": {
      "text/plain": [
       "2"
      ]
     },
     "execution_count": 7,
     "metadata": {},
     "output_type": "execute_result"
    }
   ],
   "source": [
    "only_one_value = []\n",
    "for i in train.columns[2:]:\n",
    "    if len(train[i].value_counts()) <2:\n",
    "        only_one_value.append(i)\n",
    "len(only_one_value)\n"
   ]
  },
  {
   "cell_type": "code",
   "execution_count": 8,
   "id": "bf8534c0",
   "metadata": {},
   "outputs": [
    {
     "data": {
      "text/plain": [
       "['vehicle_restricted', 'height_restricted']"
      ]
     },
     "execution_count": 8,
     "metadata": {},
     "output_type": "execute_result"
    }
   ],
   "source": [
    "only_one_value"
   ]
  },
  {
   "cell_type": "code",
   "execution_count": 9,
   "id": "bbed68fa",
   "metadata": {},
   "outputs": [
    {
     "data": {
      "text/plain": [
       "array([0.], dtype=float32)"
      ]
     },
     "execution_count": 9,
     "metadata": {},
     "output_type": "execute_result"
    }
   ],
   "source": [
    "np.unique(train[\"vehicle_restricted\"].values)"
   ]
  },
  {
   "cell_type": "markdown",
   "id": "ddfadb4d",
   "metadata": {},
   "source": [
    "* 한 가지 값만 가지는 컬럼값이 2개가 보입니다.\n",
    "* 위의 컬럼이 존재할 경우 예측하는 데에 방해요소"
   ]
  },
  {
   "cell_type": "code",
   "execution_count": 10,
   "id": "d6af4dcd",
   "metadata": {},
   "outputs": [],
   "source": [
    "# 컬럼 제거\n",
    "train.drop([\"vehicle_restricted\", \"height_restricted\"], axis = 1, inplace = True)"
   ]
  },
  {
   "cell_type": "markdown",
   "id": "353a7593",
   "metadata": {},
   "source": [
    "### 날짜 범위 확인"
   ]
  },
  {
   "cell_type": "code",
   "execution_count": 11,
   "id": "95f726d8",
   "metadata": {},
   "outputs": [
    {
     "data": {
      "text/plain": [
       "base_date\n",
       "20210901    19722\n",
       "20210902    18809\n",
       "20210903    19880\n",
       "20210904    17998\n",
       "20210905    17836\n",
       "            ...  \n",
       "20220727     9195\n",
       "20220728     7601\n",
       "20220729     5138\n",
       "20220730     1845\n",
       "20220731     5539\n",
       "Name: target, Length: 281, dtype: int64"
      ]
     },
     "execution_count": 11,
     "metadata": {},
     "output_type": "execute_result"
    }
   ],
   "source": [
    "train.groupby([\"base_date\"])[\"target\"].size()"
   ]
  },
  {
   "cell_type": "markdown",
   "id": "eb70d3f4",
   "metadata": {},
   "source": [
    "* 21년 9월 1일부터 22년 7월 31일까지의 데이터가 존재합니다\n",
    "* 우리가 예측해야 하는 항목은 22년 8월 데이터입니다\n",
    "* 결과를 예측해야 하는 기간(8월)은 train 셋에 존재하지 않습니다."
   ]
  },
  {
   "cell_type": "markdown",
   "id": "de34e777",
   "metadata": {},
   "source": [
    "###  상관관계 분석"
   ]
  },
  {
   "cell_type": "code",
   "execution_count": 12,
   "id": "bee28fba",
   "metadata": {},
   "outputs": [
    {
     "data": {
      "image/png": "[encoded data removed]",
      "text/plain": [
       "<Figure size 1008x504 with 2 Axes>"
      ]
     },
     "metadata": {
      "needs_background": "light"
     },
     "output_type": "display_data"
    }
   ],
   "source": [
    "# \"base_date\"와 \"base_hour\"는 상관관계를 분석하지 않을 것이기에 임시로 object로 변형\n",
    "train[[\"base_date\", \"base_hour\"]] = train[[\"base_date\", \"base_hour\"]].astype(object)\n",
    "plt.figure(figsize = (14,7))\n",
    "sns.heatmap(train.corr(), annot = True)\n",
    "\n",
    "# object로 변형하였던 \"base_hour\", \"base_date\"를 다시 int형으로 변형\n",
    "train[[\"base_hour\", \"base_date\"]] = train[[\"base_hour\",\"base_date\"]].astype(\"int32\")"
   ]
  },
  {
   "cell_type": "markdown",
   "id": "2b99d513",
   "metadata": {},
   "source": [
    "* 예측해야하는 target값과의 상관관계가 높은 것중에 가장 눈에 띄는 컬럼은 maximum_speed_limit입니다. 최고속도 제한이 높을 수록 양의 상관관계가 있다는 것을 알 수 있습니다.\n",
    "* lane_count(차로 수)는 많을수록 속도가 더 높을 것 같음에도 target과의 음의 상관관계가 나왔습니다.\n",
    "* weight_restricted(통과 제한 하중)은 target과의 양의 상관관계가 나왔습니다.\n",
    "* road_rating, road_type은 상관관계가 있으나 데이터를 보아야 원인을 유추할 수 있을 것으로 예상합니다\n"
   ]
  },
  {
   "cell_type": "markdown",
   "id": "907f47e5",
   "metadata": {},
   "source": [
    "#### 최고 제한 속도(maximum_speed_limit)\n"
   ]
  },
  {
   "cell_type": "code",
   "execution_count": 13,
   "id": "5a66c056",
   "metadata": {},
   "outputs": [
    {
     "data": {
      "text/plain": [
       "60.0    1665573\n",
       "50.0    1103682\n",
       "70.0     995077\n",
       "80.0     700334\n",
       "30.0     229761\n",
       "40.0       6790\n",
       "Name: maximum_speed_limit, dtype: int64"
      ]
     },
     "execution_count": 13,
     "metadata": {},
     "output_type": "execute_result"
    }
   ],
   "source": [
    "train.maximum_speed_limit.value_counts()"
   ]
  },
  {
   "cell_type": "code",
   "execution_count": 14,
   "id": "8a184a8d",
   "metadata": {},
   "outputs": [
    {
     "data": {
      "text/plain": [
       "<AxesSubplot:xlabel='maximum_speed_limit', ylabel='Density'>"
      ]
     },
     "execution_count": 14,
     "metadata": {},
     "output_type": "execute_result"
    },
    {
     "data": {
      "image/png": "[encoded data removed]",
      "text/plain": [
       "<Figure size 432x288 with 1 Axes>"
      ]
     },
     "metadata": {
      "needs_background": "light"
     },
     "output_type": "display_data"
    }
   ],
   "source": [
    "sns.distplot(train.maximum_speed_limit)"
   ]
  },
  {
   "cell_type": "code",
   "execution_count": 15,
   "id": "4b5a4f61",
   "metadata": {},
   "outputs": [
    {
     "data": {
      "text/plain": [
       "<AxesSubplot:xlabel='maximum_speed_limit', ylabel='target'>"
      ]
     },
     "execution_count": 15,
     "metadata": {},
     "output_type": "execute_result"
    },
    {
     "data": {
      "image/png": "[encoded data removed]",
      "text/plain": [
       "<Figure size 432x288 with 1 Axes>"
      ]
     },
     "metadata": {
      "needs_background": "light"
     },
     "output_type": "display_data"
    }
   ],
   "source": [
    "sns.boxplot(x = \"maximum_speed_limit\", y = \"target\", data = train)"
   ]
  },
  {
   "cell_type": "markdown",
   "id": "96cf9d5c",
   "metadata": {},
   "source": [
    "#### 차로 수(lane_count)"
   ]
  },
  {
   "cell_type": "code",
   "execution_count": 16,
   "id": "983ee72b",
   "metadata": {},
   "outputs": [
    {
     "data": {
      "text/plain": [
       "2    2352092\n",
       "1    1558531\n",
       "3     790594\n",
       "Name: lane_count, dtype: int64"
      ]
     },
     "execution_count": 16,
     "metadata": {},
     "output_type": "execute_result"
    }
   ],
   "source": [
    "train.lane_count.value_counts()"
   ]
  },
  {
   "cell_type": "code",
   "execution_count": 17,
   "id": "b01edfbb",
   "metadata": {},
   "outputs": [
    {
     "data": {
      "text/plain": [
       "<AxesSubplot:xlabel='target', ylabel='Count'>"
      ]
     },
     "execution_count": 17,
     "metadata": {},
     "output_type": "execute_result"
    },
    {
     "data": {
      "image/png": "[encoded data removed]",
      "text/plain": [
       "<Figure size 432x288 with 1 Axes>"
      ]
     },
     "metadata": {
      "needs_background": "light"
     },
     "output_type": "display_data"
    }
   ],
   "source": [
    "sns.histplot(x = train.target, hue = train.lane_count, palette=[\"C0\", \"C1\", \"k\"])"
   ]
  },
  {
   "cell_type": "code",
   "execution_count": 18,
   "id": "8161ab54",
   "metadata": {},
   "outputs": [
    {
     "data": {
      "text/plain": [
       "<AxesSubplot:xlabel='lane_count', ylabel='target'>"
      ]
     },
     "execution_count": 18,
     "metadata": {},
     "output_type": "execute_result"
    },
    {
     "data": {
      "image/png": "[encoded data removed]",
      "text/plain": [
       "<Figure size 432x288 with 1 Axes>"
      ]
     },
     "metadata": {
      "needs_background": "light"
     },
     "output_type": "display_data"
    }
   ],
   "source": [
    "sns.boxplot(x = train.lane_count, y = train.target)"
   ]
  },
  {
   "cell_type": "code",
   "execution_count": 19,
   "id": "ea6e6ec1",
   "metadata": {},
   "outputs": [
    {
     "data": {
      "text/plain": [
       "lane_count\n",
       "1    43.570560\n",
       "2    44.915714\n",
       "3    34.917782\n",
       "Name: target, dtype: float32"
      ]
     },
     "execution_count": 19,
     "metadata": {},
     "output_type": "execute_result"
    }
   ],
   "source": [
    "train.groupby(\"lane_count\")[\"target\"].mean()"
   ]
  },
  {
   "cell_type": "markdown",
   "id": "62947518",
   "metadata": {},
   "source": [
    "* 차선이 늘어날 수록 속도가 늘어날 것으로 예상했는데 평균속도가 줄어든 모습이 보임.\n",
    "* 2차선 일 때 가장 빠른 속도를 보였고, 3차선 일 때 가장 느린 속도를 보임.\n",
    "* 3차선일 때 평균속도가 유의미하게 차이가 나는 것이 확인되므로 학습에 활용할 수 있음."
   ]
  },
  {
   "cell_type": "markdown",
   "id": "45b26837",
   "metadata": {},
   "source": [
    "#### 통과 제한 하중(weight_restricted)"
   ]
  },
  {
   "cell_type": "code",
   "execution_count": 20,
   "id": "e7055aee",
   "metadata": {},
   "outputs": [
    {
     "data": {
      "text/plain": [
       "<AxesSubplot:xlabel='weight_restricted', ylabel='target'>"
      ]
     },
     "execution_count": 20,
     "metadata": {},
     "output_type": "execute_result"
    },
    {
     "data": {
      "image/png": "[encoded data removed]",
      "text/plain": [
       "<Figure size 432x288 with 1 Axes>"
      ]
     },
     "metadata": {
      "needs_background": "light"
     },
     "output_type": "display_data"
    }
   ],
   "source": [
    "sns.boxplot(x='weight_restricted', y=\"target\", data=train)"
   ]
  },
  {
   "cell_type": "code",
   "execution_count": 21,
   "id": "4047fff2",
   "metadata": {},
   "outputs": [
    {
     "data": {
      "text/plain": [
       "0.0        4032874\n",
       "43200.0     410361\n",
       "32400.0     239305\n",
       "50000.0      18677\n",
       "Name: weight_restricted, dtype: int64"
      ]
     },
     "execution_count": 21,
     "metadata": {},
     "output_type": "execute_result"
    }
   ],
   "source": [
    "train.weight_restricted.value_counts()"
   ]
  },
  {
   "cell_type": "code",
   "execution_count": 22,
   "id": "b8ef7743",
   "metadata": {},
   "outputs": [
    {
     "data": {
      "text/plain": [
       "weight_restricted\n",
       "0.0        40.955696\n",
       "32400.0    47.453350\n",
       "43200.0    57.883888\n",
       "50000.0    47.088665\n",
       "Name: target, dtype: float32"
      ]
     },
     "execution_count": 22,
     "metadata": {},
     "output_type": "execute_result"
    }
   ],
   "source": [
    "train.groupby(\"weight_restricted\")[\"target\"].mean()"
   ]
  },
  {
   "cell_type": "code",
   "execution_count": 23,
   "id": "fbd31f5f",
   "metadata": {},
   "outputs": [
    {
     "data": {
      "text/plain": [
       "<AxesSubplot:xlabel='weight_restricted', ylabel='target'>"
      ]
     },
     "execution_count": 23,
     "metadata": {},
     "output_type": "execute_result"
    },
    {
     "data": {
      "image/png": "[encoded data removed]",
      "text/plain": [
       "<Figure size 432x288 with 1 Axes>"
      ]
     },
     "metadata": {
      "needs_background": "light"
     },
     "output_type": "display_data"
    }
   ],
   "source": [
    "sns.pointplot(data = train, x = \"weight_restricted\", y = \"target\", hue= \"maximum_speed_limit\")"
   ]
  },
  {
   "cell_type": "markdown",
   "id": "df012058",
   "metadata": {},
   "source": [
    "* 제한 하중이 없는 경우 평균속도가 낮습니다.\n",
    "* 각 제한 하중별 평균값의 차이가 크기 때문에 모델 학습에 활용할 수 있습니다."
   ]
  },
  {
   "cell_type": "markdown",
   "id": "f1b1fbbe",
   "metadata": {},
   "source": [
    "### 도로 등급(road_rating)"
   ]
  },
  {
   "cell_type": "code",
   "execution_count": 24,
   "id": "b683ec8b",
   "metadata": {},
   "outputs": [
    {
     "data": {
      "text/plain": [
       "103    2159511\n",
       "107    1582214\n",
       "106     959492\n",
       "Name: road_rating, dtype: int64"
      ]
     },
     "execution_count": 24,
     "metadata": {},
     "output_type": "execute_result"
    }
   ],
   "source": [
    "train.road_rating.value_counts()"
   ]
  },
  {
   "cell_type": "code",
   "execution_count": 25,
   "id": "8de1f561",
   "metadata": {},
   "outputs": [
    {
     "data": {
      "text/plain": [
       "<seaborn.axisgrid.FacetGrid at 0x13fed9e20>"
      ]
     },
     "execution_count": 25,
     "metadata": {},
     "output_type": "execute_result"
    },
    {
     "data": {
      "image/png": "[encoded data removed]",
      "text/plain": [
       "<Figure size 425.125x360 with 1 Axes>"
      ]
     },
     "metadata": {
      "needs_background": "light"
     },
     "output_type": "display_data"
    }
   ],
   "source": [
    "sns.displot(x = train.target, hue = train.road_rating, palette=\"bright\")"
   ]
  },
  {
   "cell_type": "code",
   "execution_count": 26,
   "id": "034eb382",
   "metadata": {},
   "outputs": [
    {
     "data": {
      "image/png": "[encoded data removed]",
      "text/plain": [
       "<Figure size 432x288 with 1 Axes>"
      ]
     },
     "metadata": {
      "needs_background": "light"
     },
     "output_type": "display_data"
    }
   ],
   "source": [
    "fig = sns.boxplot(x='road_rating', y=\"target\", data=train)"
   ]
  },
  {
   "cell_type": "markdown",
   "id": "9fb9ca5e",
   "metadata": {},
   "source": [
    "* 평균적으로는 도로등급이 106, 103일 때 높은 속도를 보이며 107은 앞의 두 특성과 비교했을 때 평균 차이가 어느정도 발생합니다.\n",
    "* 최댓값에서도 도로등급 107이 가장 낮은 속도를 기록하고 있습니다."
   ]
  },
  {
   "cell_type": "markdown",
   "id": "dec90afa",
   "metadata": {},
   "source": [
    "### 도로 유형(road_type)"
   ]
  },
  {
   "cell_type": "code",
   "execution_count": 27,
   "id": "d4525f76",
   "metadata": {},
   "outputs": [
    {
     "data": {
      "text/plain": [
       "0    3737117\n",
       "3     964100\n",
       "Name: road_type, dtype: int64"
      ]
     },
     "execution_count": 27,
     "metadata": {},
     "output_type": "execute_result"
    }
   ],
   "source": [
    "train.road_type.value_counts()"
   ]
  },
  {
   "cell_type": "code",
   "execution_count": 28,
   "id": "df23f0de",
   "metadata": {},
   "outputs": [
    {
     "data": {
      "text/plain": [
       "road_type\n",
       "0    AxesSubplot(0.125,0.125;0.775x0.755)\n",
       "3    AxesSubplot(0.125,0.125;0.775x0.755)\n",
       "Name: target, dtype: object"
      ]
     },
     "execution_count": 28,
     "metadata": {},
     "output_type": "execute_result"
    },
    {
     "data": {
      "image/png": "[encoded data removed]",
      "text/plain": [
       "<Figure size 432x288 with 1 Axes>"
      ]
     },
     "metadata": {
      "needs_background": "light"
     },
     "output_type": "display_data"
    }
   ],
   "source": [
    "train.groupby(\"road_type\")[\"target\"].hist()"
   ]
  },
  {
   "cell_type": "code",
   "execution_count": 29,
   "id": "e3f9559b",
   "metadata": {},
   "outputs": [
    {
     "data": {
      "image/png": "[encoded data removed]",
      "text/plain": [
       "<Figure size 432x288 with 1 Axes>"
      ]
     },
     "metadata": {
      "needs_background": "light"
     },
     "output_type": "display_data"
    }
   ],
   "source": [
    "fig = sns.boxplot(x='road_type', y=\"target\", data=train)"
   ]
  },
  {
   "cell_type": "code",
   "execution_count": 30,
   "id": "1d947037",
   "metadata": {},
   "outputs": [
    {
     "name": "stdout",
     "output_type": "stream",
     "text": [
      "road_type\n",
      "0    41.160931\n",
      "3    49.097126\n",
      "Name: target, dtype: float32\n",
      "road_type\n",
      "0    113.0\n",
      "3    103.0\n",
      "Name: target, dtype: float32\n",
      "road_type\n",
      "0    15.949523\n",
      "3    14.320773\n",
      "Name: target, dtype: float64\n"
     ]
    }
   ],
   "source": [
    "print(train.groupby(\"road_type\")[\"target\"].mean())\n",
    "print(train.groupby(\"road_type\")[\"target\"].max())\n",
    "print(train.groupby(\"road_type\")[\"target\"].std())"
   ]
  },
  {
   "cell_type": "markdown",
   "id": "d7138509",
   "metadata": {},
   "source": [
    "* 평균의 차이가 어느정도 있으나 큰 차이는 아님."
   ]
  },
  {
   "cell_type": "markdown",
   "id": "8453e591",
   "metadata": {},
   "source": [
    "### 중용구간 여부(multi_linked)\n",
    "* 중용구간 : 2개 이상의 노선이 도로의 일정 구간을 공동으로 사용하는 구간\n"
   ]
  },
  {
   "cell_type": "code",
   "execution_count": 31,
   "id": "2a817b81",
   "metadata": {},
   "outputs": [
    {
     "data": {
      "text/plain": [
       "0    4698978\n",
       "1       2239\n",
       "Name: multi_linked, dtype: int64"
      ]
     },
     "execution_count": 31,
     "metadata": {},
     "output_type": "execute_result"
    }
   ],
   "source": [
    "train.multi_linked.value_counts()"
   ]
  },
  {
   "cell_type": "markdown",
   "id": "d5cdb39f",
   "metadata": {},
   "source": [
    "* 중용구간인 곳은 거의 없음.\n",
    "* 시각화를 통해 target과의 관계를 확인"
   ]
  },
  {
   "cell_type": "code",
   "execution_count": 32,
   "id": "f2ba64fa",
   "metadata": {},
   "outputs": [
    {
     "data": {
      "text/plain": [
       "multi_linked\n",
       "0    AxesSubplot(0.125,0.125;0.775x0.755)\n",
       "1    AxesSubplot(0.125,0.125;0.775x0.755)\n",
       "Name: target, dtype: object"
      ]
     },
     "execution_count": 32,
     "metadata": {},
     "output_type": "execute_result"
    },
    {
     "data": {
      "image/png": "[encoded data removed]",
      "text/plain": [
       "<Figure size 432x288 with 1 Axes>"
      ]
     },
     "metadata": {
      "needs_background": "light"
     },
     "output_type": "display_data"
    }
   ],
   "source": [
    "train.groupby(\"multi_linked\")[\"target\"].hist()"
   ]
  },
  {
   "cell_type": "markdown",
   "id": "cda133b5",
   "metadata": {},
   "source": [
    "* 히스토그램으로 눈에 잡히지 않음.\n",
    "* 평균값과 표준편차를 확인"
   ]
  },
  {
   "cell_type": "code",
   "execution_count": 33,
   "id": "3750214d",
   "metadata": {},
   "outputs": [
    {
     "name": "stdout",
     "output_type": "stream",
     "text": [
      "multi_linked\n",
      "0    42.791370\n",
      "1    36.642696\n",
      "Name: target, dtype: float32\n",
      "multi_linked\n",
      "0    15.954885\n",
      "1    13.661950\n",
      "Name: target, dtype: float64\n"
     ]
    }
   ],
   "source": [
    "print(train.groupby(\"multi_linked\")[\"target\"].mean())\n",
    "print(train.groupby(\"multi_linked\")[\"target\"].std())"
   ]
  },
  {
   "cell_type": "code",
   "execution_count": 34,
   "id": "b1b248d1",
   "metadata": {},
   "outputs": [
    {
     "data": {
      "text/plain": [
       "<AxesSubplot:xlabel='multi_linked', ylabel='target'>"
      ]
     },
     "execution_count": 34,
     "metadata": {},
     "output_type": "execute_result"
    },
    {
     "data": {
      "image/png": "[encoded data removed]",
      "text/plain": [
       "<Figure size 432x288 with 1 Axes>"
      ]
     },
     "metadata": {
      "needs_background": "light"
     },
     "output_type": "display_data"
    }
   ],
   "source": [
    "sns.boxplot(x = \"multi_linked\", y = \"target\", data = train, hue = \"road_type\")"
   ]
  },
  {
   "cell_type": "markdown",
   "id": "d07706d3",
   "metadata": {},
   "source": [
    "* road_type가 0이면서 multi_linked가 1인 값이 존재하지 않습니다.\n",
    "* multi_linked가 1인 값이 거의 존재하지 않아서 발생하는 문제점입니다.\n",
    "* 값이 많은 road_type보다, 값이 적은 multi_linked를 제거하는 것이 나을 것으로 예상됩니다."
   ]
  },
  {
   "cell_type": "markdown",
   "id": "9c9e1f8e",
   "metadata": {},
   "source": [
    "### 연결로 코드(connect_code)\n",
    "* “연결로”란 입체교차하는 도로에서 서로 교차하는 도로를 연결하거나 서로 높이 차이가 있는 도로를 연결해 주는 도로를 말함."
   ]
  },
  {
   "cell_type": "code",
   "execution_count": 35,
   "id": "bb2c62b0",
   "metadata": {},
   "outputs": [
    {
     "data": {
      "text/plain": [
       "0      4689075\n",
       "103      12142\n",
       "Name: connect_code, dtype: int64"
      ]
     },
     "execution_count": 35,
     "metadata": {},
     "output_type": "execute_result"
    }
   ],
   "source": [
    "train.connect_code.value_counts()"
   ]
  },
  {
   "cell_type": "code",
   "execution_count": 36,
   "id": "4e2762b1",
   "metadata": {},
   "outputs": [
    {
     "data": {
      "text/plain": [
       "connect_code\n",
       "0      AxesSubplot(0.125,0.125;0.775x0.755)\n",
       "103    AxesSubplot(0.125,0.125;0.775x0.755)\n",
       "Name: target, dtype: object"
      ]
     },
     "execution_count": 36,
     "metadata": {},
     "output_type": "execute_result"
    },
    {
     "data": {
      "image/png": "[encoded data removed]",
      "text/plain": [
       "<Figure size 432x288 with 1 Axes>"
      ]
     },
     "metadata": {
      "needs_background": "light"
     },
     "output_type": "display_data"
    }
   ],
   "source": [
    "train.groupby([\"connect_code\"])[\"target\"].hist()"
   ]
  },
  {
   "cell_type": "markdown",
   "id": "e6385fdc",
   "metadata": {},
   "source": [
    "* 중용구간 여부와 마찬가지로 연결로 코드 하나만이 매우 적은 수가 있습니다.\n",
    "* 역시 평균과 표준편차를 확인해보겠습니다"
   ]
  },
  {
   "cell_type": "code",
   "execution_count": 37,
   "id": "2034b8a3",
   "metadata": {},
   "outputs": [
    {
     "name": "stdout",
     "output_type": "stream",
     "text": [
      "connect_code\n",
      "0      42.749191\n",
      "103    57.947044\n",
      "Name: target, dtype: float32\n",
      "connect_code\n",
      "0      15.949711\n",
      "103     9.075532\n",
      "Name: target, dtype: float64\n"
     ]
    }
   ],
   "source": [
    "print(train.groupby(\"connect_code\")[\"target\"].mean())\n",
    "print(train.groupby(\"connect_code\")[\"target\"].std())"
   ]
  },
  {
   "cell_type": "markdown",
   "id": "c5124caf",
   "metadata": {},
   "source": [
    "* 연결로 코드 103에서 확실히 빠른 평균 속도를 보여주고 있습니다.\n",
    "* 뿐만 아니라 표준편차도 연결로 코드가 있는 곳이 더 낮은 것을 볼 수 있습니다."
   ]
  },
  {
   "cell_type": "code",
   "execution_count": 38,
   "id": "433f9fc2",
   "metadata": {},
   "outputs": [
    {
     "data": {
      "text/plain": [
       "connect_code  road_name\n",
       "0             일반국도12호선     1035411\n",
       "              -             569463\n",
       "              일반국도16호선      554510\n",
       "              일반국도95호선      246720\n",
       "              일반국도11호선      215701\n",
       "                            ...   \n",
       "              남조로             6813\n",
       "              호서중앙로           2819\n",
       "              호근로              587\n",
       "103           일반국도12호선       10681\n",
       "              일반국도95호선        1461\n",
       "Name: road_name, Length: 63, dtype: int64"
      ]
     },
     "execution_count": 38,
     "metadata": {},
     "output_type": "execute_result"
    }
   ],
   "source": [
    "train.groupby([\"connect_code\"])[\"road_name\"].value_counts()"
   ]
  },
  {
   "cell_type": "code",
   "execution_count": 39,
   "id": "c30ab101",
   "metadata": {},
   "outputs": [
    {
     "data": {
      "text/plain": [
       "일반국도12호선    10681\n",
       "일반국도95호선     1461\n",
       "Name: road_name, dtype: int64"
      ]
     },
     "execution_count": 39,
     "metadata": {},
     "output_type": "execute_result"
    }
   ],
   "source": [
    "temp_connect = train[train[\"connect_code\"] == 103]\n",
    "temp_connect[\"road_name\"].value_counts()"
   ]
  },
  {
   "cell_type": "markdown",
   "id": "9e8af81b",
   "metadata": {},
   "source": [
    "* 103번 연결로로 확인 되는 곳은 일반국도12호선, 일반국도95호선 2가지 입니다. 12호선과 95호선임에도 연결로가 0으로 된 곳이 있는지 확인이 필요합니다"
   ]
  },
  {
   "cell_type": "code",
   "execution_count": 40,
   "id": "1b908678",
   "metadata": {},
   "outputs": [
    {
     "data": {
      "text/plain": [
       "(1046092, 248181)"
      ]
     },
     "execution_count": 40,
     "metadata": {},
     "output_type": "execute_result"
    }
   ],
   "source": [
    "len(train[train[\"road_name\"] == \"일반국도12호선\"]), len(train[train[\"road_name\"] == \"일반국도95호선\"])"
   ]
  },
  {
   "cell_type": "markdown",
   "id": "6752ce39",
   "metadata": {},
   "source": [
    "* 너무 데이터가 많은 것 같아 시작 위도와 같은 값들을 바탕으로 일부만 탐색"
   ]
  },
  {
   "cell_type": "code",
   "execution_count": 41,
   "id": "047978b2",
   "metadata": {},
   "outputs": [
    {
     "data": {
      "text/plain": [
       "33.500330    12113\n",
       "33.500132    12108\n",
       "33.499973    12103\n",
       "33.504059    12095\n",
       "33.503254    12089\n",
       "             ...  \n",
       "33.356098     5080\n",
       "33.492178     5078\n",
       "33.254268     4816\n",
       "33.343079     4653\n",
       "33.257522     4390\n",
       "Name: start_latitude, Length: 138, dtype: int64"
      ]
     },
     "execution_count": 41,
     "metadata": {},
     "output_type": "execute_result"
    }
   ],
   "source": [
    "train[train[\"road_name\"] == \"일반국도12호선\"][\"start_latitude\"].value_counts()"
   ]
  },
  {
   "cell_type": "markdown",
   "id": "f94027d6",
   "metadata": {},
   "source": [
    "* 일반국도12호선에서 위도값이 다른 것이 138개나 존재합니다.\n",
    "* 라벨링이 잘못된 것 같지는 않고 연결로 구간만 라벨링이 된 것으로 보입니다\n",
    "* 전반적으로 봤을 때 데이터의 수는 매우 적으나 어느정도 유의미한 결과를 보이는 것 같습니다"
   ]
  },
  {
   "cell_type": "code",
   "execution_count": 42,
   "id": "1a219ae4",
   "metadata": {},
   "outputs": [
    {
     "data": {
      "text/plain": [
       "<AxesSubplot:xlabel='connect_code', ylabel='target'>"
      ]
     },
     "execution_count": 42,
     "metadata": {},
     "output_type": "execute_result"
    },
    {
     "data": {
      "image/png": "[encoded data removed]",
      "text/plain": [
       "<Figure size 432x288 with 1 Axes>"
      ]
     },
     "metadata": {
      "needs_background": "light"
     },
     "output_type": "display_data"
    }
   ],
   "source": [
    "sns.boxplot(x = \"connect_code\", y= \"target\", data = train, hue = \"road_type\")"
   ]
  },
  {
   "cell_type": "markdown",
   "id": "63d3ee4a",
   "metadata": {},
   "source": [
    "* connect_code가 103이면서 road_type 가 3인 항목이 존재하지 않음.\n",
    "* connect_code가 103인 데이터가 너무 소수이기 때문에 발생하는 문제.\n",
    "* 데이터의 불균형으로 악영향을 줄 수 있으므로 connect_code 컬럼 제거"
   ]
  },
  {
   "cell_type": "markdown",
   "id": "fbe798c4",
   "metadata": {},
   "source": [
    "### 시간(base_hour)"
   ]
  },
  {
   "cell_type": "code",
   "execution_count": 43,
   "id": "e30a3462",
   "metadata": {},
   "outputs": [
    {
     "data": {
      "text/plain": [
       "base_hour\n",
       "0     154158\n",
       "3     155938\n",
       "4     165284\n",
       "2     169322\n",
       "5     181128\n",
       "1     182353\n",
       "23    184229\n",
       "6     189418\n",
       "7     199061\n",
       "22    200629\n",
       "8     201875\n",
       "21    203585\n",
       "20    205059\n",
       "9     205327\n",
       "10    206316\n",
       "18    207500\n",
       "17    208377\n",
       "16    208420\n",
       "11    208515\n",
       "19    209870\n",
       "12    211833\n",
       "14    214182\n",
       "13    214297\n",
       "15    214541\n",
       "Name: target, dtype: int64"
      ]
     },
     "execution_count": 43,
     "metadata": {},
     "output_type": "execute_result"
    }
   ],
   "source": [
    "train.groupby(\"base_hour\")[\"target\"].count().sort_values(ascending = True)"
   ]
  },
  {
   "cell_type": "code",
   "execution_count": 44,
   "id": "1117f08b",
   "metadata": {},
   "outputs": [
    {
     "data": {
      "text/plain": [
       "base_hour  target\n",
       "0          52.0      4546\n",
       "           51.0      4545\n",
       "           50.0      4529\n",
       "           54.0      4311\n",
       "           49.0      4149\n",
       "                     ... \n",
       "23         87.0        11\n",
       "           2.0          9\n",
       "           88.0         5\n",
       "           92.0         2\n",
       "           1.0          1\n",
       "Name: target, Length: 2100, dtype: int64"
      ]
     },
     "execution_count": 44,
     "metadata": {},
     "output_type": "execute_result"
    }
   ],
   "source": [
    "train.groupby(\"base_hour\")[\"target\"].value_counts(ascending = False)"
   ]
  },
  {
   "cell_type": "markdown",
   "id": "c7f65c14",
   "metadata": {},
   "source": [
    "## --문제 축소--\n",
    "* 시간대별 요인별 속도에 영향을 미치는 것이 무엇인지"
   ]
  },
  {
   "cell_type": "code",
   "execution_count": 45,
   "id": "11a0b2ad",
   "metadata": {},
   "outputs": [
    {
     "name": "stdout",
     "output_type": "stream",
     "text": [
      "0시의 평균 속도는 48.7421989440918 km입니다\n",
      "1시의 평균 속도는 49.76329803466797 km입니다\n",
      "2시의 평균 속도는 50.27865982055664 km입니다\n",
      "3시의 평균 속도는 50.54325485229492 km입니다\n",
      "4시의 평균 속도는 49.74752426147461 km입니다\n",
      "5시의 평균 속도는 47.201141357421875 km입니다\n",
      "6시의 평균 속도는 45.54903030395508 km입니다\n",
      "7시의 평균 속도는 43.68227005004883 km입니다\n",
      "8시의 평균 속도는 41.65629196166992 km입니다\n",
      "9시의 평균 속도는 40.875938415527344 km입니다\n",
      "10시의 평균 속도는 40.222232818603516 km입니다\n",
      "11시의 평균 속도는 39.82459259033203 km입니다\n",
      "12시의 평균 속도는 39.838539123535156 km입니다\n",
      "13시의 평균 속도는 39.73147201538086 km입니다\n",
      "14시의 평균 속도는 39.561119079589844 km입니다\n",
      "15시의 평균 속도는 39.35169982910156 km입니다\n",
      "16시의 평균 속도는 39.1279296875 km입니다\n",
      "17시의 평균 속도는 38.47336196899414 km입니다\n",
      "18시의 평균 속도는 38.24125671386719 km입니다\n",
      "19시의 평균 속도는 40.10411071777344 km입니다\n",
      "20시의 평균 속도는 41.113807678222656 km입니다\n",
      "21시의 평균 속도는 42.173431396484375 km입니다\n",
      "22시의 평균 속도는 43.98986053466797 km입니다\n",
      "23시의 평균 속도는 45.8077392578125 km입니다\n"
     ]
    }
   ],
   "source": [
    "for i in range(24):\n",
    "    mean_time = train[train[\"base_hour\"] == i][\"target\"].mean()\n",
    "    print(\"{}시의 평균 속도는 {} km입니다\". format(i, mean_time))"
   ]
  },
  {
   "cell_type": "code",
   "execution_count": 46,
   "id": "62fdb2c3",
   "metadata": {},
   "outputs": [
    {
     "data": {
      "text/plain": [
       "base_hour\n",
       "3     50.543255\n",
       "2     50.278660\n",
       "1     49.763298\n",
       "4     49.747524\n",
       "0     48.742199\n",
       "5     47.201141\n",
       "23    45.807739\n",
       "6     45.549030\n",
       "22    43.989861\n",
       "7     43.682270\n",
       "21    42.173431\n",
       "8     41.656292\n",
       "20    41.113808\n",
       "9     40.875938\n",
       "10    40.222233\n",
       "19    40.104111\n",
       "12    39.838539\n",
       "11    39.824593\n",
       "13    39.731472\n",
       "14    39.561119\n",
       "15    39.351700\n",
       "16    39.127930\n",
       "17    38.473362\n",
       "18    38.241257\n",
       "Name: target, dtype: float32"
      ]
     },
     "execution_count": 46,
     "metadata": {},
     "output_type": "execute_result"
    }
   ],
   "source": [
    "train.groupby(\"base_hour\")[\"target\"].mean().sort_values(ascending = False)"
   ]
  },
  {
   "cell_type": "code",
   "execution_count": 47,
   "id": "5a024877",
   "metadata": {},
   "outputs": [
    {
     "data": {
      "text/plain": [
       "<AxesSubplot:ylabel='target'>"
      ]
     },
     "execution_count": 47,
     "metadata": {},
     "output_type": "execute_result"
    },
    {
     "data": {
      "image/png": "[encoded data removed]",
      "text/plain": [
       "<Figure size 432x288 with 1 Axes>"
      ]
     },
     "metadata": {
      "needs_background": "light"
     },
     "output_type": "display_data"
    }
   ],
   "source": [
    "sns.barplot(x = train.base_hour.unique(), y = train.groupby(\"base_hour\")[\"target\"].mean())"
   ]
  },
  {
   "cell_type": "code",
   "execution_count": 48,
   "id": "b35e0d6e",
   "metadata": {},
   "outputs": [
    {
     "data": {
      "text/plain": [
       "<AxesSubplot:xlabel='base_hour', ylabel='target'>"
      ]
     },
     "execution_count": 48,
     "metadata": {},
     "output_type": "execute_result"
    },
    {
     "data": {
      "image/png": "[encoded data removed]",
      "text/plain": [
       "<Figure size 432x288 with 1 Axes>"
      ]
     },
     "metadata": {
      "needs_background": "light"
     },
     "output_type": "display_data"
    }
   ],
   "source": [
    "sns.boxplot(x = train.base_hour, y = train.target)"
   ]
  },
  {
   "cell_type": "markdown",
   "id": "aba5eb3a",
   "metadata": {},
   "source": [
    "* 밤 11시부터 통행량이 감소하다가 6시 이후로 다시 통행량이 증가하는 양상이 확인됌.\n",
    "* 통행량이 적은 11시부터 6시 까지는 빠른 속도를 낼 수 있을 것으로 기대됌.\n",
    "* 위의 시간에 해당하는지에 여부에 따라서 새로운 변수 생성 가능"
   ]
  },
  {
   "cell_type": "markdown",
   "id": "767a15d7",
   "metadata": {},
   "source": [
    "# 2. 데이터 분석"
   ]
  },
  {
   "cell_type": "markdown",
   "id": "a9cd2c82",
   "metadata": {},
   "source": [
    "## 데이터셋 분할"
   ]
  },
  {
   "cell_type": "code",
   "execution_count": 49,
   "id": "300bc861",
   "metadata": {},
   "outputs": [],
   "source": [
    "data = train.copy()"
   ]
  },
  {
   "cell_type": "code",
   "execution_count": 50,
   "id": "a2323ff0",
   "metadata": {},
   "outputs": [],
   "source": [
    "# road_name = 지방도 추출\n",
    "\n",
    "road = data.road_name.unique()\n",
    "road = [i for i in road if \"지방\" in i]\n",
    "\n",
    "data = data.query(\"road_name in @road\")\n",
    "\n",
    "# 2202년 4월 1일 이전, 이후로 분할\n",
    "test = data[data.base_date >= 20220401]\n",
    "train = data[data.base_date < 20220401]"
   ]
  },
  {
   "cell_type": "code",
   "execution_count": 51,
   "id": "44f7f40b",
   "metadata": {},
   "outputs": [
    {
     "name": "stdout",
     "output_type": "stream",
     "text": [
      "train : test = 0.661040270128357 : 0.338959729871643\n"
     ]
    }
   ],
   "source": [
    "rt = test.shape[0]/train.shape[0]\n",
    "print(f\"train : test = {1-rt} : {rt}\")"
   ]
  },
  {
   "cell_type": "markdown",
   "id": "8e43d32d",
   "metadata": {},
   "source": [
    "## 전처리"
   ]
  },
  {
   "cell_type": "code",
   "execution_count": 52,
   "id": "c059fe2a",
   "metadata": {},
   "outputs": [],
   "source": [
    "train[\"month\"] = train['base_date'].astype(\"str\").apply(\n",
    "                               lambda x : x[4:6]).apply(\n",
    "                               lambda x : int(x) if x[0]!=0 else int(x[-1]))\n",
    "\n",
    "train[\"day\"] = train['base_date'].astype(\"str\").apply(\n",
    "                               lambda x : x[-2:]).apply(\n",
    "                               lambda x : int(x) if x[0]!=0 else int(x[-1]))\n",
    "\n",
    "test[\"month\"] = test['base_date'].astype(\"str\").apply(\n",
    "                               lambda x : x[4:6]).apply(\n",
    "                               lambda x : int(x) if x[0]!=0 else int(x[-1]))\n",
    "\n",
    "test[\"day\"] = test['base_date'].astype(\"str\").apply(\n",
    "                               lambda x : x[-2:]).apply(\n",
    "                               lambda x : int(x) if x[0]!=0 else int(x[-1]))\n",
    "\n",
    "\n",
    "\n",
    "train[\"start_turn_restricted\"] = train[\"start_turn_restricted\"].map({\"없음\":0, \"있음\":1})\n",
    "test[\"start_turn_restricted\"] = test[\"start_turn_restricted\"].map({\"없음\":0, \"있음\":1})\n",
    "\n",
    "train[\"end_turn_restricted\"] = train[\"end_turn_restricted\"].map({\"없음\":0, \"있음\":1})\n",
    "test[\"end_turn_restricted\"] = test[\"end_turn_restricted\"].map({\"없음\":0, \"있음\":1})"
   ]
  },
  {
   "cell_type": "code",
   "execution_count": 53,
   "id": "f07fd626",
   "metadata": {},
   "outputs": [],
   "source": [
    "day_mean = train.groupby(\"day_of_week\")[\"target\"].mean().reset_index().values\n",
    "day_mean = {i : j for i, j in day_mean}\n",
    "\n",
    "train[\"day_of_week\"] = train[\"day_of_week\"].map(day_mean)\n",
    "test[\"day_of_week\"] = test[\"day_of_week\"].map(day_mean)"
   ]
  },
  {
   "cell_type": "code",
   "execution_count": 54,
   "id": "60bc3da4",
   "metadata": {},
   "outputs": [],
   "source": [
    "road_info = [\"lane_count\", \"maximum_speed_limit\", \"weight_restricted\", \"road_type\", \"start_turn_restricted\",\n",
    "            \"end_turn_restricted\"] \n",
    "day = [\"day_of_week\", \"base_hour\", \"month\", \"day\"]\n",
    "col = road_info + day"
   ]
  },
  {
   "cell_type": "code",
   "execution_count": 55,
   "id": "f16fd931",
   "metadata": {},
   "outputs": [],
   "source": [
    "y_tr = train[\"target\"]\n",
    "y_te = test[\"target\"]\n",
    "\n",
    "train = train[col]\n",
    "test = test[col]"
   ]
  },
  {
   "cell_type": "code",
   "execution_count": 56,
   "id": "ccfb968b",
   "metadata": {},
   "outputs": [],
   "source": [
    "from sklearn.preprocessing import MinMaxScaler\n",
    "scaler = MinMaxScaler()\n",
    "\n",
    "scaler.fit(train)\n",
    "train.loc[:, :] = scaler.transform(train)\n",
    "test.loc[:, :] = scaler.transform(test)"
   ]
  },
  {
   "cell_type": "markdown",
   "id": "ce63876b",
   "metadata": {},
   "source": [
    "# 3. 도로관련 변수 요인분석"
   ]
  },
  {
   "cell_type": "code",
   "execution_count": 57,
   "id": "554ed9fc",
   "metadata": {},
   "outputs": [
    {
     "name": "stdout",
     "output_type": "stream",
     "text": [
      "요인적재량 :\n",
      "                               0         1\n",
      "lane_count            -0.095888  1.006479\n",
      "maximum_speed_limit   -0.084552  0.510503\n",
      "weight_restricted      0.795582 -0.219084\n",
      "road_type              0.979173  0.230136\n",
      "start_turn_restricted  0.029149  0.367815\n",
      "end_turn_restricted    0.033676  0.258533\n"
     ]
    }
   ],
   "source": [
    "from factor_analyzer import FactorAnalyzer\n",
    "\n",
    "\n",
    "# 탐색적요인분석\n",
    "fa = FactorAnalyzer(n_factors=2, rotation='varimax').fit(train[road_info])\n",
    "# 결과 출력\n",
    "print('요인적재량 :\\n',pd.DataFrame(fa.loadings_, index=road_info))"
   ]
  },
  {
   "cell_type": "markdown",
   "id": "3e92835c",
   "metadata": {},
   "source": [
    "- Factor0\n",
    "    - 통과제한하중, 도로유형에 대한 factor loading 값이 큼\n",
    "    - \"속도에 대한 간접적 요인\"라고 명명\n",
    "- Factor2\n",
    "    - 차로수, 속도제한, 시작/도착지점 회전제한 유무 대한 factor loading 값이 큼\n",
    "    - \"속도에 대한 간접적 요인\"라고 명명 "
   ]
  },
  {
   "cell_type": "code",
   "execution_count": 58,
   "id": "e7804343",
   "metadata": {},
   "outputs": [
    {
     "name": "stdout",
     "output_type": "stream",
     "text": [
      "\n",
      "공통성 :\n",
      "                               0\n",
      "lane_count             1.022194\n",
      "maximum_speed_limit    0.267762\n",
      "weight_restricted      0.680949\n",
      "road_type              1.011742\n",
      "start_turn_restricted  0.136138\n",
      "end_turn_restricted    0.067973\n"
     ]
    }
   ],
   "source": [
    "print('\\n공통성 :\\n', pd.DataFrame(fa.get_communalities(), index=road_info))"
   ]
  },
  {
   "cell_type": "code",
   "execution_count": 59,
   "id": "11c6b52c",
   "metadata": {},
   "outputs": [
    {
     "name": "stdout",
     "output_type": "stream",
     "text": [
      "\n",
      "요인점수 :\n",
      " [[-0.52681027 -0.72142485]\n",
      " [-0.52681027 -0.72142485]\n",
      " [-0.99757481  1.66614112]\n",
      " ...\n",
      " [ 1.35971042  2.20839385]\n",
      " [-0.73345151  0.43622822]\n",
      " [ 1.35971042  2.20839385]]\n"
     ]
    }
   ],
   "source": [
    "print('\\n요인점수 :\\n', fa.transform(train[road_info]))"
   ]
  },
  {
   "cell_type": "markdown",
   "id": "0f645fb2",
   "metadata": {},
   "source": [
    "# 4. 요인점수 적용, 미적용 회귀분석 결과 비교"
   ]
  },
  {
   "cell_type": "code",
   "execution_count": 60,
   "id": "e8fe9c7b",
   "metadata": {},
   "outputs": [],
   "source": [
    "train[\"간접적요인\"] = fa.transform(train[road_info])[:, 0]\n",
    "train[\"직접적요인\"] = fa.transform(train[road_info])[:, 1]\n",
    "\n",
    "test[\"간접적요인\"] = fa.transform(test[road_info])[:, 0]\n",
    "test[\"직접적요인\"] = fa.transform(test[road_info])[:, 1]"
   ]
  },
  {
   "cell_type": "code",
   "execution_count": 61,
   "id": "c99deac8",
   "metadata": {},
   "outputs": [],
   "source": [
    "train_f = train.drop(road_info, axis = 1)\n",
    "test_f = test.drop(road_info, axis = 1)"
   ]
  },
  {
   "cell_type": "code",
   "execution_count": 62,
   "id": "f538a2a8",
   "metadata": {},
   "outputs": [],
   "source": [
    "from sklearn.linear_model import Ridge\n",
    "from sklearn.linear_model import Lasso\n",
    "from sklearn.linear_model import ElasticNet\n",
    "from sklearn.linear_model import LinearRegression\n",
    "\n",
    "from sklearn.metrics import mean_absolute_error\n",
    "import time"
   ]
  },
  {
   "cell_type": "markdown",
   "id": "f6114bc8",
   "metadata": {},
   "source": [
    "### 4.1. 요인점수 적용"
   ]
  },
  {
   "cell_type": "code",
   "execution_count": 135,
   "id": "be68a389",
   "metadata": {},
   "outputs": [
    {
     "data": {
      "text/html": [
       "<div>\n",
       "<style scoped>\n",
       "    .dataframe tbody tr th:only-of-type {\n",
       "        vertical-align: middle;\n",
       "    }\n",
       "\n",
       "    .dataframe tbody tr th {\n",
       "        vertical-align: top;\n",
       "    }\n",
       "\n",
       "    .dataframe thead th {\n",
       "        text-align: right;\n",
       "    }\n",
       "</style>\n",
       "<table border=\"1\" class=\"dataframe\">\n",
       "  <thead>\n",
       "    <tr style=\"text-align: right;\">\n",
       "      <th></th>\n",
       "      <th>MAE_factor</th>\n",
       "      <th>time_factor</th>\n",
       "    </tr>\n",
       "  </thead>\n",
       "  <tbody>\n",
       "    <tr>\n",
       "      <th>LinearRegression</th>\n",
       "      <td>9.158527</td>\n",
       "      <td>0.058767</td>\n",
       "    </tr>\n",
       "    <tr>\n",
       "      <th>Lasso</th>\n",
       "      <td>9.361843</td>\n",
       "      <td>0.027594</td>\n",
       "    </tr>\n",
       "    <tr>\n",
       "      <th>Ridge</th>\n",
       "      <td>9.158527</td>\n",
       "      <td>0.026410</td>\n",
       "    </tr>\n",
       "    <tr>\n",
       "      <th>ElasticNet</th>\n",
       "      <td>9.392786</td>\n",
       "      <td>0.036640</td>\n",
       "    </tr>\n",
       "  </tbody>\n",
       "</table>\n",
       "</div>"
      ],
      "text/plain": [
       "                  MAE_factor  time_factor\n",
       "LinearRegression    9.158527     0.058767\n",
       "Lasso               9.361843     0.027594\n",
       "Ridge               9.158527     0.026410\n",
       "ElasticNet          9.392786     0.036640"
      ]
     },
     "execution_count": 135,
     "metadata": {},
     "output_type": "execute_result"
    }
   ],
   "source": [
    "linear = LinearRegression()\n",
    "ridge = Ridge(random_state = 0)\n",
    "lasso = Lasso(random_state = 0)\n",
    "elastic = ElasticNet(random_state = 0)\n",
    "\n",
    "models = [linear, lasso, ridge, elastic]\n",
    "\n",
    "benchmark_factor = pd.DataFrame()\n",
    "for model in models:\n",
    "    start = time.time()\n",
    "    model.fit(train_f, y_tr)\n",
    "    pred = model.predict(test_f)\n",
    "    tm = time.time() - start\n",
    "    mae = mean_absolute_error(y_te, pred)\n",
    "    \n",
    "    benchmark_factor[str(model.__class__.__name__)] = [mae, tm]\n",
    "        \n",
    "    \n",
    "\n",
    "benchmark_factor.index = ([\"MAE_factor\", \"time_factor\"])\n",
    "benchmark_factor.T"
   ]
  },
  {
   "cell_type": "markdown",
   "id": "8969b569",
   "metadata": {},
   "source": [
    "### 4.2. 요인점수 미적용"
   ]
  },
  {
   "cell_type": "code",
   "execution_count": 136,
   "id": "96e418e7",
   "metadata": {},
   "outputs": [
    {
     "data": {
      "text/html": [
       "<div>\n",
       "<style scoped>\n",
       "    .dataframe tbody tr th:only-of-type {\n",
       "        vertical-align: middle;\n",
       "    }\n",
       "\n",
       "    .dataframe tbody tr th {\n",
       "        vertical-align: top;\n",
       "    }\n",
       "\n",
       "    .dataframe thead th {\n",
       "        text-align: right;\n",
       "    }\n",
       "</style>\n",
       "<table border=\"1\" class=\"dataframe\">\n",
       "  <thead>\n",
       "    <tr style=\"text-align: right;\">\n",
       "      <th></th>\n",
       "      <th>MAE_nofactor</th>\n",
       "      <th>time_nofactor</th>\n",
       "    </tr>\n",
       "  </thead>\n",
       "  <tbody>\n",
       "    <tr>\n",
       "      <th>LinearRegression</th>\n",
       "      <td>7.535561</td>\n",
       "      <td>0.089827</td>\n",
       "    </tr>\n",
       "    <tr>\n",
       "      <th>Lasso</th>\n",
       "      <td>9.549749</td>\n",
       "      <td>0.071074</td>\n",
       "    </tr>\n",
       "    <tr>\n",
       "      <th>Ridge</th>\n",
       "      <td>7.535572</td>\n",
       "      <td>0.030181</td>\n",
       "    </tr>\n",
       "    <tr>\n",
       "      <th>ElasticNet</th>\n",
       "      <td>9.594355</td>\n",
       "      <td>0.060251</td>\n",
       "    </tr>\n",
       "  </tbody>\n",
       "</table>\n",
       "</div>"
      ],
      "text/plain": [
       "                  MAE_nofactor  time_nofactor\n",
       "LinearRegression      7.535561       0.089827\n",
       "Lasso                 9.549749       0.071074\n",
       "Ridge                 7.535572       0.030181\n",
       "ElasticNet            9.594355       0.060251"
      ]
     },
     "execution_count": 136,
     "metadata": {},
     "output_type": "execute_result"
    }
   ],
   "source": [
    "linear = LinearRegression()\n",
    "ridge = Ridge(random_state = 0)\n",
    "lasso = Lasso(random_state = 0)\n",
    "elastic = ElasticNet(random_state = 0)\n",
    "\n",
    "models = [linear, lasso, ridge, elastic]\n",
    "\n",
    "benchmark = pd.DataFrame()\n",
    "for model in models:\n",
    "    start = time.time()\n",
    "    model.fit(train[col], y_tr)\n",
    "    pred = model.predict(test[col])\n",
    "    tm = time.time() - start\n",
    "    mae = mean_absolute_error(y_te, pred)\n",
    "    \n",
    "    benchmark[str(model.__class__.__name__)] = [mae, tm]\n",
    "        \n",
    "    \n",
    "\n",
    "benchmark.index = ([\"MAE_nofactor\", \"time_nofactor\"])\n",
    "benchmark.T"
   ]
  },
  {
   "cell_type": "code",
   "execution_count": 137,
   "id": "e80f7c76",
   "metadata": {},
   "outputs": [],
   "source": [
    "final_benchmark = pd.concat([benchmark.T, benchmark_factor.T], axis = 1)"
   ]
  },
  {
   "cell_type": "markdown",
   "id": "1eef1f35",
   "metadata": {},
   "source": [
    "### 4.3. 최종비교"
   ]
  },
  {
   "cell_type": "code",
   "execution_count": 138,
   "id": "46ecc5cb",
   "metadata": {},
   "outputs": [
    {
     "data": {
      "text/html": [
       "<div>\n",
       "<style scoped>\n",
       "    .dataframe tbody tr th:only-of-type {\n",
       "        vertical-align: middle;\n",
       "    }\n",
       "\n",
       "    .dataframe tbody tr th {\n",
       "        vertical-align: top;\n",
       "    }\n",
       "\n",
       "    .dataframe thead th {\n",
       "        text-align: right;\n",
       "    }\n",
       "</style>\n",
       "<table border=\"1\" class=\"dataframe\">\n",
       "  <thead>\n",
       "    <tr style=\"text-align: right;\">\n",
       "      <th></th>\n",
       "      <th>MAE_nofactor</th>\n",
       "      <th>time_nofactor</th>\n",
       "      <th>MAE_factor</th>\n",
       "      <th>time_factor</th>\n",
       "    </tr>\n",
       "  </thead>\n",
       "  <tbody>\n",
       "    <tr>\n",
       "      <th>LinearRegression</th>\n",
       "      <td>7.535561</td>\n",
       "      <td>0.089827</td>\n",
       "      <td>9.158527</td>\n",
       "      <td>0.058767</td>\n",
       "    </tr>\n",
       "    <tr>\n",
       "      <th>Lasso</th>\n",
       "      <td>9.549749</td>\n",
       "      <td>0.071074</td>\n",
       "      <td>9.361843</td>\n",
       "      <td>0.027594</td>\n",
       "    </tr>\n",
       "    <tr>\n",
       "      <th>Ridge</th>\n",
       "      <td>7.535572</td>\n",
       "      <td>0.030181</td>\n",
       "      <td>9.158527</td>\n",
       "      <td>0.026410</td>\n",
       "    </tr>\n",
       "    <tr>\n",
       "      <th>ElasticNet</th>\n",
       "      <td>9.594355</td>\n",
       "      <td>0.060251</td>\n",
       "      <td>9.392786</td>\n",
       "      <td>0.036640</td>\n",
       "    </tr>\n",
       "  </tbody>\n",
       "</table>\n",
       "</div>"
      ],
      "text/plain": [
       "                  MAE_nofactor  time_nofactor  MAE_factor  time_factor\n",
       "LinearRegression      7.535561       0.089827    9.158527     0.058767\n",
       "Lasso                 9.549749       0.071074    9.361843     0.027594\n",
       "Ridge                 7.535572       0.030181    9.158527     0.026410\n",
       "ElasticNet            9.594355       0.060251    9.392786     0.036640"
      ]
     },
     "execution_count": 138,
     "metadata": {},
     "output_type": "execute_result"
    }
   ],
   "source": [
    "final_benchmark"
   ]
  },
  {
   "cell_type": "code",
   "execution_count": 139,
   "id": "99c622aa",
   "metadata": {},
   "outputs": [
    {
     "data": {
      "text/plain": [
       "1.682153138144751"
      ]
     },
     "execution_count": 139,
     "metadata": {},
     "output_type": "execute_result"
    }
   ],
   "source": [
    "# 속도 비교\n",
    "final_benchmark.time_nofactor.mean() / final_benchmark.time_factor.mean()"
   ]
  },
  {
   "cell_type": "code",
   "execution_count": 140,
   "id": "eab02b0c",
   "metadata": {},
   "outputs": [
    {
     "data": {
      "text/plain": [
       "1.083484601222273"
      ]
     },
     "execution_count": 140,
     "metadata": {},
     "output_type": "execute_result"
    }
   ],
   "source": [
    "# Mae 비교\n",
    "final_benchmark.MAE_factor.mean() / final_benchmark.MAE_nofactor.mean()"
   ]
  },
  {
   "cell_type": "markdown",
   "id": "b16ff147",
   "metadata": {},
   "source": [
    "- MAE\n",
    "    - 요인변수를 활용해 feature를 줄인 데이터셋을 활용한 경우가 MAE가 평균적으로 1.08배 증가\n",
    "    - 하지만 Ridge회귀나 Elastic회귀 사용시 오히려 감소\n",
    " \n",
    "- 모델 구현 속도\n",
    "    - 요인변수를 활용한 경우가 속도가 1.7배 향상"
   ]
  }
 ],
 "metadata": {
  "kernelspec": {
   "display_name": "Python 3 (ipykernel)",
   "language": "python",
   "name": "python3"
  },
  "language_info": {
   "codemirror_mode": {
    "name": "ipython",
    "version": 3
   },
   "file_extension": ".py",
   "mimetype": "text/x-python",
   "name": "python",
   "nbconvert_exporter": "python",
   "pygments_lexer": "ipython3",
   "version": "3.9.12"
  }
 },
 "nbformat": 4,
 "nbformat_minor": 5
}
