{
 "cells": [
  {
   "cell_type": "markdown",
   "id": "699ad536",
   "metadata": {},
   "source": [
    "# 주제: 제주도 도로 교통량과 유의미한 변수"
   ]
  },
  {
   "cell_type": "markdown",
   "id": "60103532",
   "metadata": {},
   "source": [
    "### 모듈 import 및 data 불러오기"
   ]
  },
  {
   "cell_type": "code",
   "execution_count": 1,
   "id": "14c70e3f",
   "metadata": {},
   "outputs": [],
   "source": [
    "import pandas as pd\n",
    "import numpy as np\n",
    "import matplotlib.pyplot as plt\n",
    "import seaborn as sns\n",
    "from sklearn.preprocessing import LabelEncoder\n",
    "import gc\n",
    "\n",
    "import os\n",
    "import glob\n",
    "\n",
    "# scaler\n",
    "from sklearn.preprocessing import MinMaxScaler\n",
    "\n",
    "# 요인분석\n",
    "from factor_analyzer import FactorAnalyzer\n",
    "\n",
    "# 회귀분석\n",
    "from sklearn.linear_model import Ridge\n",
    "from sklearn.linear_model import Lasso\n",
    "from sklearn.linear_model import ElasticNet\n",
    "from sklearn.linear_model import LinearRegression\n",
    "\n",
    "from sklearn.metrics import mean_absolute_error\n",
    "import time\n",
    "\n",
    "import warnings\n",
    "warnings.filterwarnings('ignore')\n",
    "\n",
    "data = pd.read_csv('dataset/train.csv')"
   ]
  },
  {
   "cell_type": "markdown",
   "id": "a9cd2c82",
   "metadata": {},
   "source": [
    "## 데이터셋 분할"
   ]
  },
  {
   "cell_type": "code",
   "execution_count": 2,
   "id": "a2323ff0",
   "metadata": {},
   "outputs": [],
   "source": [
    "# road_name = 지방도 추출\n",
    "\n",
    "road = data.road_name.unique()\n",
    "road = [i for i in road if \"지방\" in i]\n",
    "\n",
    "data = data.query(\"road_name in @road\")\n",
    "\n",
    "# 2202년 4월 1일 이전, 이후로 분할\n",
    "test = data[data.base_date >= 20220401]\n",
    "train = data[data.base_date < 20220401]"
   ]
  },
  {
   "cell_type": "code",
   "execution_count": 3,
   "id": "44f7f40b",
   "metadata": {},
   "outputs": [
    {
     "name": "stdout",
     "output_type": "stream",
     "text": [
      "train : test = 0.661040270128357 : 0.338959729871643\n"
     ]
    }
   ],
   "source": [
    "rt = test.shape[0]/train.shape[0]\n",
    "print(f\"train : test = {1-rt} : {rt}\")"
   ]
  },
  {
   "cell_type": "markdown",
   "id": "8e43d32d",
   "metadata": {},
   "source": [
    "## 전처리"
   ]
  },
  {
   "cell_type": "code",
   "execution_count": 4,
   "id": "c059fe2a",
   "metadata": {},
   "outputs": [],
   "source": [
    "train[\"month\"] = train['base_date'].astype(\"str\").apply(\n",
    "                               lambda x : x[4:6]).apply(\n",
    "                               lambda x : int(x) if x[0]!=0 else int(x[-1]))\n",
    "\n",
    "train[\"day\"] = train['base_date'].astype(\"str\").apply(\n",
    "                               lambda x : x[-2:]).apply(\n",
    "                               lambda x : int(x) if x[0]!=0 else int(x[-1]))\n",
    "\n",
    "test[\"month\"] = test['base_date'].astype(\"str\").apply(\n",
    "                               lambda x : x[4:6]).apply(\n",
    "                               lambda x : int(x) if x[0]!=0 else int(x[-1]))\n",
    "\n",
    "test[\"day\"] = test['base_date'].astype(\"str\").apply(\n",
    "                               lambda x : x[-2:]).apply(\n",
    "                               lambda x : int(x) if x[0]!=0 else int(x[-1]))\n",
    "\n",
    "\n",
    "\n",
    "train[\"start_turn_restricted\"] = train[\"start_turn_restricted\"].map({\"없음\":0, \"있음\":1})\n",
    "test[\"start_turn_restricted\"] = test[\"start_turn_restricted\"].map({\"없음\":0, \"있음\":1})\n",
    "\n",
    "train[\"end_turn_restricted\"] = train[\"end_turn_restricted\"].map({\"없음\":0, \"있음\":1})\n",
    "test[\"end_turn_restricted\"] = test[\"end_turn_restricted\"].map({\"없음\":0, \"있음\":1})"
   ]
  },
  {
   "cell_type": "code",
   "execution_count": 5,
   "id": "f07fd626",
   "metadata": {},
   "outputs": [],
   "source": [
    "day_mean = train.groupby(\"day_of_week\")[\"target\"].mean().reset_index().values\n",
    "day_mean = {i : j for i, j in day_mean}\n",
    "\n",
    "train[\"day_of_week\"] = train[\"day_of_week\"].map(day_mean)\n",
    "test[\"day_of_week\"] = test[\"day_of_week\"].map(day_mean)"
   ]
  },
  {
   "cell_type": "code",
   "execution_count": 6,
   "id": "60bc3da4",
   "metadata": {},
   "outputs": [],
   "source": [
    "road_info = [\"lane_count\", \"maximum_speed_limit\", \"weight_restricted\", \"road_type\", \"start_turn_restricted\",\n",
    "            \"end_turn_restricted\"] \n",
    "day = [\"day_of_week\", \"base_hour\", \"month\", \"day\"]\n",
    "col = road_info + day"
   ]
  },
  {
   "cell_type": "code",
   "execution_count": 7,
   "id": "f16fd931",
   "metadata": {},
   "outputs": [],
   "source": [
    "y_tr = train[\"target\"]\n",
    "y_te = test[\"target\"]\n",
    "\n",
    "train = train[col]\n",
    "test = test[col]"
   ]
  },
  {
   "cell_type": "code",
   "execution_count": 8,
   "id": "ccfb968b",
   "metadata": {},
   "outputs": [],
   "source": [
    "from sklearn.preprocessing import MinMaxScaler\n",
    "scaler = MinMaxScaler()\n",
    "\n",
    "scaler.fit(train)\n",
    "train.loc[:, :] = scaler.transform(train)\n",
    "test.loc[:, :] = scaler.transform(test)"
   ]
  },
  {
   "cell_type": "markdown",
   "id": "ce63876b",
   "metadata": {},
   "source": [
    "# 3. 도로관련 변수 요인분석"
   ]
  },
  {
   "cell_type": "code",
   "execution_count": 9,
   "id": "554ed9fc",
   "metadata": {},
   "outputs": [
    {
     "name": "stdout",
     "output_type": "stream",
     "text": [
      "요인적재량 :\n",
      "                               0         1\n",
      "lane_count            -0.095888  1.006479\n",
      "maximum_speed_limit   -0.084552  0.510503\n",
      "weight_restricted      0.795582 -0.219084\n",
      "road_type              0.979173  0.230136\n",
      "start_turn_restricted  0.029149  0.367815\n",
      "end_turn_restricted    0.033676  0.258533\n"
     ]
    }
   ],
   "source": [
    "from factor_analyzer import FactorAnalyzer\n",
    "\n",
    "\n",
    "# 탐색적요인분석\n",
    "fa = FactorAnalyzer(n_factors=2, rotation='varimax').fit(train[road_info])\n",
    "# 결과 출력\n",
    "print('요인적재량 :\\n',pd.DataFrame(fa.loadings_, index=road_info))"
   ]
  },
  {
   "cell_type": "markdown",
   "id": "3e92835c",
   "metadata": {},
   "source": [
    "- Factor0\n",
    "    - 통과제한하중, 도로유형에 대한 factor loading 값이 큼\n",
    "    - \"속도에 대한 간접적 요인\"라고 명명\n",
    "- Factor2\n",
    "    - 차로수, 속도제한, 시작/도착지점 회전제한 유무 대한 factor loading 값이 큼\n",
    "    - \"속도에 대한 간접적 요인\"라고 명명 "
   ]
  },
  {
   "cell_type": "code",
   "execution_count": 10,
   "id": "e7804343",
   "metadata": {},
   "outputs": [
    {
     "name": "stdout",
     "output_type": "stream",
     "text": [
      "\n",
      "공통성 :\n",
      "                               0\n",
      "lane_count             1.022194\n",
      "maximum_speed_limit    0.267762\n",
      "weight_restricted      0.680949\n",
      "road_type              1.011742\n",
      "start_turn_restricted  0.136138\n",
      "end_turn_restricted    0.067973\n"
     ]
    }
   ],
   "source": [
    "print('\\n공통성 :\\n', pd.DataFrame(fa.get_communalities(), index=road_info))"
   ]
  },
  {
   "cell_type": "code",
   "execution_count": 11,
   "id": "11c6b52c",
   "metadata": {},
   "outputs": [
    {
     "name": "stdout",
     "output_type": "stream",
     "text": [
      "\n",
      "요인점수 :\n",
      " [[-0.52681027 -0.72142485]\n",
      " [-0.52681027 -0.72142485]\n",
      " [-0.99757481  1.66614112]\n",
      " ...\n",
      " [ 1.35971042  2.20839385]\n",
      " [-0.73345151  0.43622822]\n",
      " [ 1.35971042  2.20839385]]\n"
     ]
    }
   ],
   "source": [
    "print('\\n요인점수 :\\n', fa.transform(train[road_info]))"
   ]
  },
  {
   "cell_type": "markdown",
   "id": "0f645fb2",
   "metadata": {},
   "source": [
    "# 4. 요인점수 적용, 미적용 회귀분석 결과 비교"
   ]
  },
  {
   "cell_type": "code",
   "execution_count": 12,
   "id": "e8fe9c7b",
   "metadata": {},
   "outputs": [],
   "source": [
    "train[\"간접적요인\"] = fa.transform(train[road_info])[:, 0]\n",
    "train[\"직접적요인\"] = fa.transform(train[road_info])[:, 1]\n",
    "\n",
    "test[\"간접적요인\"] = fa.transform(test[road_info])[:, 0]\n",
    "test[\"직접적요인\"] = fa.transform(test[road_info])[:, 1]"
   ]
  },
  {
   "cell_type": "code",
   "execution_count": 13,
   "id": "c99deac8",
   "metadata": {},
   "outputs": [],
   "source": [
    "train_f = train.drop(road_info, axis = 1)\n",
    "test_f = test.drop(road_info, axis = 1)"
   ]
  },
  {
   "cell_type": "code",
   "execution_count": 14,
   "id": "f538a2a8",
   "metadata": {},
   "outputs": [],
   "source": [
    "from sklearn.linear_model import Ridge\n",
    "from sklearn.linear_model import Lasso\n",
    "from sklearn.linear_model import ElasticNet\n",
    "from sklearn.linear_model import LinearRegression\n",
    "\n",
    "from sklearn.metrics import mean_absolute_error\n",
    "import time"
   ]
  },
  {
   "cell_type": "markdown",
   "id": "f6114bc8",
   "metadata": {},
   "source": [
    "### 4.1. 요인점수 적용"
   ]
  },
  {
   "cell_type": "code",
   "execution_count": 15,
   "id": "be68a389",
   "metadata": {},
   "outputs": [
    {
     "data": {
      "text/html": [
       "<div>\n",
       "<style scoped>\n",
       "    .dataframe tbody tr th:only-of-type {\n",
       "        vertical-align: middle;\n",
       "    }\n",
       "\n",
       "    .dataframe tbody tr th {\n",
       "        vertical-align: top;\n",
       "    }\n",
       "\n",
       "    .dataframe thead th {\n",
       "        text-align: right;\n",
       "    }\n",
       "</style>\n",
       "<table border=\"1\" class=\"dataframe\">\n",
       "  <thead>\n",
       "    <tr style=\"text-align: right;\">\n",
       "      <th></th>\n",
       "      <th>MAE_factor</th>\n",
       "      <th>time_factor</th>\n",
       "    </tr>\n",
       "  </thead>\n",
       "  <tbody>\n",
       "    <tr>\n",
       "      <th>LinearRegression</th>\n",
       "      <td>9.158527</td>\n",
       "      <td>0.055650</td>\n",
       "    </tr>\n",
       "    <tr>\n",
       "      <th>Lasso</th>\n",
       "      <td>9.361843</td>\n",
       "      <td>0.037928</td>\n",
       "    </tr>\n",
       "    <tr>\n",
       "      <th>Ridge</th>\n",
       "      <td>9.158527</td>\n",
       "      <td>0.019522</td>\n",
       "    </tr>\n",
       "    <tr>\n",
       "      <th>ElasticNet</th>\n",
       "      <td>9.392786</td>\n",
       "      <td>0.020806</td>\n",
       "    </tr>\n",
       "  </tbody>\n",
       "</table>\n",
       "</div>"
      ],
      "text/plain": [
       "                  MAE_factor  time_factor\n",
       "LinearRegression    9.158527     0.055650\n",
       "Lasso               9.361843     0.037928\n",
       "Ridge               9.158527     0.019522\n",
       "ElasticNet          9.392786     0.020806"
      ]
     },
     "execution_count": 15,
     "metadata": {},
     "output_type": "execute_result"
    }
   ],
   "source": [
    "linear = LinearRegression()\n",
    "ridge = Ridge(random_state = 0)\n",
    "lasso = Lasso(random_state = 0)\n",
    "elastic = ElasticNet(random_state = 0)\n",
    "\n",
    "models = [linear, lasso, ridge, elastic]\n",
    "\n",
    "benchmark_factor = pd.DataFrame()\n",
    "for model in models:\n",
    "    start = time.time()\n",
    "    model.fit(train_f, y_tr)\n",
    "    pred = model.predict(test_f)\n",
    "    tm = time.time() - start\n",
    "    mae = mean_absolute_error(y_te, pred)\n",
    "    \n",
    "    benchmark_factor[str(model.__class__.__name__)] = [mae, tm]\n",
    "        \n",
    "    \n",
    "\n",
    "benchmark_factor.index = ([\"MAE_factor\", \"time_factor\"])\n",
    "benchmark_factor.T"
   ]
  },
  {
   "cell_type": "markdown",
   "id": "8969b569",
   "metadata": {},
   "source": [
    "### 4.2. 요인점수 미적용"
   ]
  },
  {
   "cell_type": "code",
   "execution_count": 16,
   "id": "96e418e7",
   "metadata": {},
   "outputs": [
    {
     "data": {
      "text/html": [
       "<div>\n",
       "<style scoped>\n",
       "    .dataframe tbody tr th:only-of-type {\n",
       "        vertical-align: middle;\n",
       "    }\n",
       "\n",
       "    .dataframe tbody tr th {\n",
       "        vertical-align: top;\n",
       "    }\n",
       "\n",
       "    .dataframe thead th {\n",
       "        text-align: right;\n",
       "    }\n",
       "</style>\n",
       "<table border=\"1\" class=\"dataframe\">\n",
       "  <thead>\n",
       "    <tr style=\"text-align: right;\">\n",
       "      <th></th>\n",
       "      <th>MAE_nofactor</th>\n",
       "      <th>time_nofactor</th>\n",
       "    </tr>\n",
       "  </thead>\n",
       "  <tbody>\n",
       "    <tr>\n",
       "      <th>LinearRegression</th>\n",
       "      <td>7.535561</td>\n",
       "      <td>0.088771</td>\n",
       "    </tr>\n",
       "    <tr>\n",
       "      <th>Lasso</th>\n",
       "      <td>9.549749</td>\n",
       "      <td>0.044216</td>\n",
       "    </tr>\n",
       "    <tr>\n",
       "      <th>Ridge</th>\n",
       "      <td>7.535572</td>\n",
       "      <td>0.039577</td>\n",
       "    </tr>\n",
       "    <tr>\n",
       "      <th>ElasticNet</th>\n",
       "      <td>9.594355</td>\n",
       "      <td>0.053628</td>\n",
       "    </tr>\n",
       "  </tbody>\n",
       "</table>\n",
       "</div>"
      ],
      "text/plain": [
       "                  MAE_nofactor  time_nofactor\n",
       "LinearRegression      7.535561       0.088771\n",
       "Lasso                 9.549749       0.044216\n",
       "Ridge                 7.535572       0.039577\n",
       "ElasticNet            9.594355       0.053628"
      ]
     },
     "execution_count": 16,
     "metadata": {},
     "output_type": "execute_result"
    }
   ],
   "source": [
    "linear = LinearRegression()\n",
    "ridge = Ridge(random_state = 0)\n",
    "lasso = Lasso(random_state = 0)\n",
    "elastic = ElasticNet(random_state = 0)\n",
    "\n",
    "models = [linear, lasso, ridge, elastic]\n",
    "\n",
    "benchmark = pd.DataFrame()\n",
    "for model in models:\n",
    "    start = time.time()\n",
    "    model.fit(train[col], y_tr)\n",
    "    pred = model.predict(test[col])\n",
    "    tm = time.time() - start\n",
    "    mae = mean_absolute_error(y_te, pred)\n",
    "    \n",
    "    benchmark[str(model.__class__.__name__)] = [mae, tm]\n",
    "        \n",
    "    \n",
    "\n",
    "benchmark.index = ([\"MAE_nofactor\", \"time_nofactor\"])\n",
    "benchmark.T"
   ]
  },
  {
   "cell_type": "code",
   "execution_count": 17,
   "id": "e80f7c76",
   "metadata": {},
   "outputs": [],
   "source": [
    "final_benchmark = pd.concat([benchmark.T, benchmark_factor.T], axis = 1)"
   ]
  },
  {
   "cell_type": "markdown",
   "id": "1eef1f35",
   "metadata": {},
   "source": [
    "### 4.3. 최종비교"
   ]
  },
  {
   "cell_type": "code",
   "execution_count": 18,
   "id": "46ecc5cb",
   "metadata": {},
   "outputs": [
    {
     "data": {
      "text/html": [
       "<div>\n",
       "<style scoped>\n",
       "    .dataframe tbody tr th:only-of-type {\n",
       "        vertical-align: middle;\n",
       "    }\n",
       "\n",
       "    .dataframe tbody tr th {\n",
       "        vertical-align: top;\n",
       "    }\n",
       "\n",
       "    .dataframe thead th {\n",
       "        text-align: right;\n",
       "    }\n",
       "</style>\n",
       "<table border=\"1\" class=\"dataframe\">\n",
       "  <thead>\n",
       "    <tr style=\"text-align: right;\">\n",
       "      <th></th>\n",
       "      <th>MAE_nofactor</th>\n",
       "      <th>time_nofactor</th>\n",
       "      <th>MAE_factor</th>\n",
       "      <th>time_factor</th>\n",
       "    </tr>\n",
       "  </thead>\n",
       "  <tbody>\n",
       "    <tr>\n",
       "      <th>LinearRegression</th>\n",
       "      <td>7.535561</td>\n",
       "      <td>0.088771</td>\n",
       "      <td>9.158527</td>\n",
       "      <td>0.055650</td>\n",
       "    </tr>\n",
       "    <tr>\n",
       "      <th>Lasso</th>\n",
       "      <td>9.549749</td>\n",
       "      <td>0.044216</td>\n",
       "      <td>9.361843</td>\n",
       "      <td>0.037928</td>\n",
       "    </tr>\n",
       "    <tr>\n",
       "      <th>Ridge</th>\n",
       "      <td>7.535572</td>\n",
       "      <td>0.039577</td>\n",
       "      <td>9.158527</td>\n",
       "      <td>0.019522</td>\n",
       "    </tr>\n",
       "    <tr>\n",
       "      <th>ElasticNet</th>\n",
       "      <td>9.594355</td>\n",
       "      <td>0.053628</td>\n",
       "      <td>9.392786</td>\n",
       "      <td>0.020806</td>\n",
       "    </tr>\n",
       "  </tbody>\n",
       "</table>\n",
       "</div>"
      ],
      "text/plain": [
       "                  MAE_nofactor  time_nofactor  MAE_factor  time_factor\n",
       "LinearRegression      7.535561       0.088771    9.158527     0.055650\n",
       "Lasso                 9.549749       0.044216    9.361843     0.037928\n",
       "Ridge                 7.535572       0.039577    9.158527     0.019522\n",
       "ElasticNet            9.594355       0.053628    9.392786     0.020806"
      ]
     },
     "execution_count": 18,
     "metadata": {},
     "output_type": "execute_result"
    }
   ],
   "source": [
    "final_benchmark"
   ]
  },
  {
   "cell_type": "code",
   "execution_count": 19,
   "id": "99c622aa",
   "metadata": {},
   "outputs": [
    {
     "data": {
      "text/plain": [
       "1.6891893576145616"
      ]
     },
     "execution_count": 19,
     "metadata": {},
     "output_type": "execute_result"
    }
   ],
   "source": [
    "# 속도 비교\n",
    "final_benchmark.time_nofactor.mean() / final_benchmark.time_factor.mean()"
   ]
  },
  {
   "cell_type": "code",
   "execution_count": 20,
   "id": "eab02b0c",
   "metadata": {},
   "outputs": [
    {
     "data": {
      "text/plain": [
       "1.0834846010429615"
      ]
     },
     "execution_count": 20,
     "metadata": {},
     "output_type": "execute_result"
    }
   ],
   "source": [
    "# Mae 비교\n",
    "final_benchmark.MAE_factor.mean() / final_benchmark.MAE_nofactor.mean()"
   ]
  },
  {
   "cell_type": "markdown",
   "id": "b16ff147",
   "metadata": {},
   "source": [
    "- MAE\n",
    "    - 요인변수를 활용해 feature를 줄인 데이터셋을 활용한 경우가 MAE가 평균적으로 1.08배 증가\n",
    "    - 하지만 Ridge회귀나 Elastic회귀 사용시 오히려 감소\n",
    " \n",
    "- 모델 구현 속도\n",
    "    - 요인변수를 활용한 경우가 속도가 1.7배 향상"
   ]
  }
 ],
 "metadata": {
  "kernelspec": {
   "display_name": "Python 3 (ipykernel)",
   "language": "python",
   "name": "python3"
  },
  "language_info": {
   "codemirror_mode": {
    "name": "ipython",
    "version": 3
   },
   "file_extension": ".py",
   "mimetype": "text/x-python",
   "name": "python",
   "nbconvert_exporter": "python",
   "pygments_lexer": "ipython3",
   "version": "3.9.12"
  }
 },
 "nbformat": 4,
 "nbformat_minor": 5
}
