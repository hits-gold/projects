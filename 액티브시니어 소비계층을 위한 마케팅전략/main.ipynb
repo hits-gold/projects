{
 "cells": [
  {
   "cell_type": "markdown",
   "metadata": {},
   "source": [
    "# 분석 프로그래밍 팀 프로젝트 코드\n",
    "\n",
    "\n",
    "\n",
    "\n",
    "\n",
    "\n",
    "\n",
    "\n",
    "\n",
    "\n",
    "\n",
    "\n",
    "\n",
    "\n"
   ]
  },
  {
   "cell_type": "markdown",
   "metadata": {},
   "source": [
    "# 데이터 불러오기 및 전처리"
   ]
  },
  {
   "cell_type": "code",
   "execution_count": null,
   "metadata": {},
   "outputs": [],
   "source": [
    "import pandas as pd #판다스 패키지\n",
    "import numpy as np #넘파이 패키지\n",
    "\n",
    "import seaborn as sns #시각화 패키지\n",
    "import matplotlib.pylab as plt #시각화 패키지\n",
    "from matplotlib import cm #시각화 패키지에서 컬러 조정\n",
    "\n",
    "import sys\n",
    "print(sys.version)\n",
    "\n",
    "from scipy import stats\n",
    "from scipy.stats import trim_mean\n",
    "from statsmodels import robust #머신러닝 패키지\n",
    "\n",
    "from sklearn.cluster import KMeans  # k-means 군집분석\n",
    "from sklearn.metrics import silhouette_score  # 군집분석 평가를 위한 silhouette 값 계산\n",
    "from IPython.display import Image #이미지 넣는 모듈\n",
    "\n",
    "from matplotlib import font_manager, rc\n",
    "font_name = font_manager.FontProperties(fname=\"c:/Windows/Fonts/malgun.ttf\").get_name()\n",
    "rc('font', family=font_name) #한글안나올때 넣는 모듈\n",
    "plt.rcParams['axes.unicode_minus'] = False # 폰트 안나올때\n",
    "# plt.rc('font', family='AppleGothic') # for MAC OS users\n",
    "plt.rc('font', family=font_manager.FontProperties(fname=\"c:/Windows/Fonts/malgun.ttf\").get_name()) # for Windows OS user"
   ]
  },
  {
   "cell_type": "code",
   "execution_count": null,
   "metadata": {},
   "outputs": [],
   "source": [
    "tr = pd.read_csv(r\"구매내역정보.csv\", encoding='cp949')\n",
    "cs = pd.read_csv(r\"Demo.csv\", encoding='cp949')\n",
    "df = pd.merge(tr, cs, on = \"ID\")\n",
    "display(df.head())"
   ]
  },
  {
   "cell_type": "code",
   "execution_count": null,
   "metadata": {},
   "outputs": [],
   "source": [
    "# 거주지역 분할\n",
    "df['거주지역_광역'] = df['거주지역'].apply(lambda x : x.split(' ')[0])\n",
    "df['거주지역_기초'] = df['거주지역'].apply(lambda x : x.split(' ')[1])\n",
    "\n",
    "# 구매지역 분할\n",
    "df['구매지역_광역'] = df['구매지역'].apply(lambda x : x.split(' ')[0])\n",
    "df['구매지역_기초'] = df['구매지역'].apply(lambda x : x.split(' ')[1])\n",
    "\n",
    "# 연령대 분할후\n",
    "df['연령대'] = df['연령'].apply(lambda x : '50대' if x <60 else '60대' if x <70 else '70대' if x <80 else '80대')\n",
    "\n",
    "# 성별 구분\n",
    "df['성별'] = df['성별'].apply(lambda x : '남자' if x ==1 else '여자')\n",
    "\n",
    "# 구매일자 구분\n",
    "df['구매일자'] = df['구매일자'].astype(str).astype('datetime64') # 날짜정보를 담고 있는 de_dt 컬럼의 데이터 유형이 정수이기 때문\n",
    "df['연'] = df['구매일자'].dt.year\n",
    "df['월'] = df['구매일자'].dt.month\n",
    "df[\"요일\"] = df[\"구매일자\"].apply(lambda x: ('월','화','수','목','금','토','일')[x.weekday()] + '요일')\n",
    "\n",
    "# 판매단가 컬럼 생성\n",
    "df['판매단가'] = (df['구매금액']/df['구매수량']).astype('int')\n",
    "\n",
    "display(df.head())"
   ]
  },
  {
   "cell_type": "markdown",
   "metadata": {},
   "source": [
    "# RFM 분석"
   ]
  },
  {
   "cell_type": "markdown",
   "metadata": {},
   "source": [
    "### frequency"
   ]
  },
  {
   "cell_type": "code",
   "execution_count": null,
   "metadata": {},
   "outputs": [],
   "source": [
    "frequency = df.groupby(\"ID\")[\"구매일자\"].nunique().sort_values().reset_index()\n",
    "frequency"
   ]
  },
  {
   "cell_type": "markdown",
   "metadata": {},
   "source": [
    "### monetary"
   ]
  },
  {
   "cell_type": "code",
   "execution_count": null,
   "metadata": {},
   "outputs": [],
   "source": [
    "from scipy.stats import norm\n",
    "\n",
    "monetary = df.groupby(\"ID\")[\"구매금액\"].nunique().sort_values().reset_index()\n",
    "monetary.구매금액.apply(lambda x: np.log1p(x))\n",
    "monetary"
   ]
  },
  {
   "cell_type": "markdown",
   "metadata": {},
   "source": [
    "### recency"
   ]
  },
  {
   "cell_type": "code",
   "execution_count": null,
   "metadata": {},
   "outputs": [],
   "source": [
    "now = df.구매일자.max()+pd.DateOffset(days=1)\n",
    "recency = (df.groupby('ID')['구매일자']\n",
    "           .agg(lambda x,y: (y - x).min().days, now).reset_index()\n",
    "           .rename(columns={'구매일자':'recency'})\n",
    "          )\n",
    "\n",
    "recency[\"recency\"] = 365 - recency[\"recency\"] \n",
    "recency"
   ]
  },
  {
   "cell_type": "markdown",
   "metadata": {},
   "source": [
    "## rfm score"
   ]
  },
  {
   "cell_type": "code",
   "execution_count": null,
   "metadata": {},
   "outputs": [],
   "source": [
    "rfm = pd.merge(frequency, monetary, on = \"ID\").merge(recency, on = \"ID\").set_index(\"ID\")\n",
    "rfm = (rfm/(rfm.max()))\n",
    "rfm =rfm.rename(columns = {\"구매일자\":\"frequency\", \"구매금액\":\"monetary\"})"
   ]
  },
  {
   "cell_type": "code",
   "execution_count": null,
   "metadata": {},
   "outputs": [],
   "source": [
    "rfm[\"score\"] = rfm[\"frequency\"] * rfm[\"recency\"] * rfm[\"monetary\"]\n",
    "rfm = rfm.reset_index()"
   ]
  },
  {
   "cell_type": "code",
   "execution_count": null,
   "metadata": {},
   "outputs": [],
   "source": [
    "rfm[\"등급\"] = 0\n",
    "for i in range(0, len(rfm[\"score\"])):\n",
    "    if rfm[\"score\"][i] <= rfm[\"score\"].quantile(1/3):\n",
    "        rfm[\"등급\"][i] = \"3등급\"\n",
    "    elif rfm[\"score\"][i] <= rfm[\"score\"].quantile(2/3):\n",
    "        rfm[\"등급\"][i] = \"2등급\"\n",
    "    else:\n",
    "        rfm[\"등급\"][i] = \"1등급\"\n",
    "        \n",
    "rfm = rfm[[\"ID\", \"등급\"]]"
   ]
  },
  {
   "cell_type": "markdown",
   "metadata": {},
   "source": [
    "# RFM등급별 대분류제품군별 총구매액"
   ]
  },
  {
   "cell_type": "code",
   "execution_count": null,
   "metadata": {
    "scrolled": true
   },
   "outputs": [],
   "source": [
    "df = df.merge(rfm, on = \"ID\")"
   ]
  },
  {
   "cell_type": "code",
   "execution_count": null,
   "metadata": {
    "scrolled": false
   },
   "outputs": [],
   "source": [
    "aa = pd.pivot_table(df, index = \"등급\", columns = \"상품대분류명\",\n",
    "                values = \"구매금액\", aggfunc = \"sum\", fill_value = 0).plot(marker = \"o\", markersize = 10, figsize = (20, 10))\n",
    "plt.title(\"등급별 상품대분류명별 총구매액\", fontsize = 20)\n",
    "plt.show()"
   ]
  },
  {
   "cell_type": "markdown",
   "metadata": {},
   "source": [
    "## RFM등급별 상품중분류별 총구매액"
   ]
  },
  {
   "cell_type": "code",
   "execution_count": null,
   "metadata": {
    "scrolled": true
   },
   "outputs": [],
   "source": [
    "fig, axes = plt.subplots(4, 2, figsize = (20, 30))\n",
    "\n",
    "\n",
    "pd.pivot_table(df.query(\"상품대분류명 == '가전제품'\"), index = \"등급\", \n",
    "               columns = \"상품중분류명\", values = \"구매금액\", aggfunc = \"sum\").plot(marker = \"o\", markersize = 10, ax = axes[0, 0])\n",
    "axes[0, 0].set_title(\"가전제품 중분류별 총구매액\", fontsize = 15)\n",
    "axes[0, 0].set_ylabel(\"제품별 총구매액\")\n",
    "axes[0, 0].legend(loc = \"upper right\")\n",
    "\n",
    "pd.pivot_table(df.query(\"상품대분류명 == '의류잡화'\"), index = \"등급\", \n",
    "               columns = \"상품중분류명\", values = \"구매금액\", aggfunc = \"sum\").plot(marker = \"o\", markersize = 10, ax = axes[0, 1])\n",
    "axes[0, 1].set_title(\"의류잡화 중분류별 총구매액\", fontsize = 15)\n",
    "axes[0, 1].set_ylabel(\"제품별 총구매액\")\n",
    "axes[0, 1].legend(loc = \"upper right\")\n",
    "\n",
    "pd.pivot_table(df.query(\"상품대분류명 == '명품'\"), index = \"등급\", \n",
    "               columns = \"상품중분류명\", values = \"구매금액\", aggfunc = \"sum\").plot(marker = \"o\", markersize = 10, ax = axes[1, 0])\n",
    "axes[1, 0].set_title(\"명품 총구매액\", fontsize = 15)\n",
    "axes[1, 0].set_ylabel(\"제품별 총구매액\")\n",
    "axes[1, 0].legend(loc = \"upper right\")\n",
    "\n",
    "pd.pivot_table(df.query(\"상품대분류명 == '레포츠'\"), index = \"등급\", \n",
    "               columns = \"상품중분류명\", values = \"구매금액\", aggfunc = \"sum\").plot(marker = \"o\", markersize = 10, ax = axes[1, 1])\n",
    "axes[1, 1].set_title(\"레포츠 중분류별 총구매액\", fontsize = 15)\n",
    "axes[1, 1].set_ylabel(\"제품별 총구매액\")\n",
    "axes[1, 1].legend(loc = \"upper right\")\n",
    "\n",
    "pd.pivot_table(df.query(\"상품대분류명 == '식품'\"), index = \"등급\", \n",
    "               columns = \"상품중분류명\", values = \"구매금액\", aggfunc = \"sum\").plot(marker = \"o\", markersize = 10, ax = axes[2, 0])\n",
    "axes[2, 0].set_title(\"식품 중분류별 총구매액\", fontsize = 15)\n",
    "axes[2, 0].set_ylabel(\"제품별 총구매액\")\n",
    "axes[2, 0].legend(loc = \"upper right\")\n",
    "\n",
    "pd.pivot_table(df.query(\"상품대분류명 == '가구'\"), index = \"등급\", \n",
    "               columns = \"상품중분류명\", values = \"구매금액\", aggfunc = \"sum\").plot(marker = \"o\", markersize = 10, ax = axes[2, 1])\n",
    "axes[2, 1].set_title(\"가구 총구매액\", fontsize = 15)\n",
    "axes[2, 1].set_ylabel(\"제품별 총구매액\")\n",
    "axes[2, 1].legend(loc = \"upper right\")\n",
    "\n",
    "pd.pivot_table(df.query(\"상품대분류명 == '생활잡화'\"), index = \"등급\", \n",
    "               columns = \"상품중분류명\", values = \"구매금액\", aggfunc = \"sum\").plot(marker = \"o\", markersize = 10, ax = axes[3, 0])\n",
    "axes[3, 0].set_title(\"생활잡화 중분류별 총구매액\", fontsize = 15)\n",
    "axes[3, 0].set_ylabel(\"제품별 총구매액\")\n",
    "axes[3, 0].legend(loc = \"upper right\")\n",
    "\n",
    "pd.pivot_table(df.query(\"상품대분류명 == '생활잡화'\"), index = \"등급\", \n",
    "               columns = \"상품중분류명\", values = \"구매금액\", aggfunc = \"sum\").plot(marker = \"o\", markersize = 10, ax = axes[3, 0])\n",
    "axes[3, 0].set_title(\"생활잡화 중분류별 총구매액\", fontsize = 15)\n",
    "axes[3, 0].set_ylabel(\"제품별 총구매액\")\n",
    "axes[3, 0].legend(loc = \"upper right\")\n",
    "\n",
    "plt.show()"
   ]
  },
  {
   "cell_type": "markdown",
   "metadata": {},
   "source": [
    "# 이상치 제거"
   ]
  },
  {
   "cell_type": "code",
   "execution_count": null,
   "metadata": {
    "scrolled": false
   },
   "outputs": [],
   "source": [
    "pd.pivot_table(df, index = \"ID\", columns = \"상품대분류명\", values = \"구매금액\", aggfunc = \"sum\", fill_value = 0).plot.box()\n",
    "plt.title(\"ID별 제품군별 총구매액 이상치 확인\")\n",
    "plt.show()"
   ]
  },
  {
   "cell_type": "code",
   "execution_count": null,
   "metadata": {},
   "outputs": [],
   "source": [
    "df.query(\"상품대분류명 == '레포츠'\").groupby(\"ID\")[\"구매금액\"].sum().sort_values(ascending = False).index[0]"
   ]
  },
  {
   "cell_type": "code",
   "execution_count": null,
   "metadata": {},
   "outputs": [],
   "source": [
    "#이상치 제거\n",
    "idx = df[df[\"ID\"]==700882892].index\n",
    "df = df.drop(idx)"
   ]
  },
  {
   "cell_type": "markdown",
   "metadata": {},
   "source": [
    "# 군집분석"
   ]
  },
  {
   "cell_type": "markdown",
   "metadata": {},
   "source": [
    "### [Feature 1] 총구매액, 구매건수, 평균구매액, 최대구매액"
   ]
  },
  {
   "cell_type": "code",
   "execution_count": null,
   "metadata": {
    "scrolled": false
   },
   "outputs": [],
   "source": [
    "features = df.groupby('ID')['구매금액'].agg([\n",
    "    ('총구매액',np.sum), \n",
    "    ('구매건수', np.size), \n",
    "    ('평균구매액', lambda x: np.round(np.mean(x))),\n",
    "    ('최대구매액', np.max),\n",
    "]).reset_index()\n",
    "features"
   ]
  },
  {
   "cell_type": "code",
   "execution_count": null,
   "metadata": {
    "scrolled": true
   },
   "outputs": [],
   "source": [
    "features.iloc[:,1:].hist(bins=20, figsize=(15,10))\n",
    "plt.show()"
   ]
  },
  {
   "cell_type": "code",
   "execution_count": null,
   "metadata": {},
   "outputs": [],
   "source": [
    "df['구매일자']=df.구매일자.astype(str).astype('datetime64')"
   ]
  },
  {
   "cell_type": "markdown",
   "metadata": {},
   "source": [
    "### [Feature 2] 내점일수, 구매주기, 주말방문율"
   ]
  },
  {
   "cell_type": "code",
   "execution_count": null,
   "metadata": {
    "scrolled": false
   },
   "outputs": [],
   "source": [
    "f = df.groupby(\"ID\")['구매일자'].agg([('내점일수',lambda x: x.nunique()),('구매주기', lambda x : int(((x.max() - x.min()).days) / x.nunique())),('주말방문율', lambda x: (x.dt.weekday > 4).mean().round(2)) \n",
    "]).reset_index()\n",
    "features = features.merge(f, how='left'); features"
   ]
  },
  {
   "cell_type": "code",
   "execution_count": null,
   "metadata": {
    "scrolled": true
   },
   "outputs": [],
   "source": [
    "sns.pairplot(data=f.iloc[:,1:], height=3)\n",
    "plt.show()"
   ]
  },
  {
   "cell_type": "code",
   "execution_count": null,
   "metadata": {},
   "outputs": [],
   "source": [
    "fig, ax = plt.subplots(1, 3, figsize=(18,6))\n",
    "\n",
    "sns.histplot(data=f, x='내점일수', kde=True, ax=ax[0])\n",
    "sns.histplot(data=f, x='구매주기', kde=True, ax=ax[1])\n",
    "sns.histplot(data=f, x='주말방문율', kde=True, ax=ax[2])\n",
    "plt.show()"
   ]
  },
  {
   "cell_type": "markdown",
   "metadata": {},
   "source": [
    "### [Feature3] 거래 당 평균 구매액, 구매건수"
   ]
  },
  {
   "cell_type": "code",
   "execution_count": null,
   "metadata": {
    "scrolled": true
   },
   "outputs": [],
   "source": [
    "visit_cnt = df.groupby('ID')['구매일자'].agg(lambda x: x.nunique()) #롯데에서 구매한 사실 자체만 집중. \n",
    "per_amount = (df.groupby('ID')['구매금액'].sum() / visit_cnt).round(0).reset_index().rename(columns={0:'거래당구매액'})\n",
    "per_count = (df.groupby('ID')['구매금액'].count() / visit_cnt).round(1).reset_index().rename(columns={0:'거래당구매건수'})\n",
    "\n",
    "f= pd.merge(per_amount, per_count, on='ID')\n",
    "features = features.merge(f, how='left'); features"
   ]
  },
  {
   "cell_type": "markdown",
   "metadata": {},
   "source": [
    "### [Feature4]주구매시간"
   ]
  },
  {
   "cell_type": "code",
   "execution_count": null,
   "metadata": {},
   "outputs": [],
   "source": [
    "pd.DataFrame(df.query(\"ID == '999375162'\")[\"구매시간\"]).value_counts()"
   ]
  },
  {
   "cell_type": "code",
   "execution_count": null,
   "metadata": {
    "scrolled": true
   },
   "outputs": [],
   "source": [
    "f = df.groupby('ID')['구매시간'].agg([('주구매시간', lambda x: int(x.value_counts().index[0]))]).reset_index()\n",
    "features= features.merge(f, how=\"left\"); features"
   ]
  },
  {
   "cell_type": "code",
   "execution_count": null,
   "metadata": {
    "scrolled": true
   },
   "outputs": [],
   "source": [
    "# 범주형 속성 값의 빈도 출력\n",
    "fig, ax = plt.subplots(figsize=(8, 6))\n",
    "sns.countplot(y='주구매시간', data=f, alpha=0.5)  "
   ]
  },
  {
   "cell_type": "markdown",
   "metadata": {},
   "source": [
    "### [Feature5]가격선호도"
   ]
  },
  {
   "cell_type": "code",
   "execution_count": null,
   "metadata": {
    "scrolled": true
   },
   "outputs": [],
   "source": [
    "# 판매단가 계산\n",
    "df['price'] = df['구매금액'] / df['구매수량']\n",
    "\n",
    "# 상품중분류별 평균 판매단가에 대한 4분위수 계산 => 3Q 이상을 고가상품으로 설정\n",
    "price_4q = df.groupby('상품중분류명')['price'].mean().quantile([.25,.5,.75])\n",
    "pd.DataFrame(price_4q)"
   ]
  },
  {
   "cell_type": "code",
   "execution_count": null,
   "metadata": {
    "scrolled": true
   },
   "outputs": [],
   "source": [
    "f = (df.groupby('ID')['price']\n",
    "     .agg([('고가상품구매율', lambda x: (x > price_4q.iloc[2]).mean().round(2))])\n",
    "     .reset_index())\n",
    "features = features.merge(f, how='left')\n",
    "features.sort_values(by=['고가상품구매율'], ascending=False)"
   ]
  },
  {
   "cell_type": "markdown",
   "metadata": {},
   "source": [
    "### [Feature6]구매추세"
   ]
  },
  {
   "cell_type": "code",
   "execution_count": null,
   "metadata": {},
   "outputs": [],
   "source": [
    "# 마지막주부터 10주전까지 (총 10주 간) 매주 구매건수를 계산하여 리스트에 넣음\n",
    "week_to = df.구매일자.max()\n",
    "week_trans = []\n",
    "for i in range(10):\n",
    "    week_from = week_to + pd.DateOffset(weeks=-1)\n",
    "    week_trans.append(df.query('@week_from < 구매일자 <= @week_to')\n",
    "                      .groupby('ID')['구매금액']\n",
    "                      .agg([(f'w{10-i}', 'size')])\n",
    "                      .reset_index())\n",
    "    week_to = week_from\n",
    "\n",
    "# 리스트로부터 데이터프레임 변환    \n",
    "f = pd.DataFrame({'ID': df.ID.unique()})\n",
    "for w in week_trans[::-1]:\n",
    "    f = pd.merge(f, w, how='left')\n",
    "f = f.fillna(0)\n",
    "\n",
    "f['구매추세'] = f.apply(lambda x: np.polyfit(range(10), x[1:], 1)[0].round(2), axis=1)\n",
    "features = features.merge(f.iloc[:,[0,-1]], how='left'); features"
   ]
  },
  {
   "cell_type": "code",
   "execution_count": null,
   "metadata": {
    "scrolled": true
   },
   "outputs": [],
   "source": [
    "sns.kdeplot(f.구매추세, color='m')\n",
    "plt.show()"
   ]
  },
  {
   "cell_type": "markdown",
   "metadata": {},
   "source": [
    "### [Feature 7]취소건수"
   ]
  },
  {
   "cell_type": "code",
   "execution_count": null,
   "metadata": {},
   "outputs": [],
   "source": [
    "cancel_df = pd.DataFrame(df.groupby(\"ID\")[\"취소여부\"].agg([(\"취소건수\",sum)]).reset_index())\n",
    "features = pd.merge(features,cancel_df,how='left')\n",
    "features"
   ]
  },
  {
   "cell_type": "markdown",
   "metadata": {},
   "source": [
    "### [Feature 8]액티브시니어 특징이 드러나는 상품중분류별 구매금액"
   ]
  },
  {
   "cell_type": "code",
   "execution_count": null,
   "metadata": {
    "scrolled": true
   },
   "outputs": [],
   "source": [
    "a=df.query(\"상품중분류명 == '휴대폰/태블릿'\").groupby(\"ID\")[\"구매금액\"].agg([(\"휴대폰/태블릿구매금액\",sum)]).reset_index()\n",
    "b=df.query(\"상품중분류명 == '화장품'\").groupby(\"ID\")[\"구매금액\"].agg([(\"화장품구매금액\",sum)]).reset_index()\n",
    "c=df.query(\"상품대분류명 == '레포츠'\").groupby(\"ID\")[\"구매금액\"].agg([(\"레포츠구매금액\",sum)]).reset_index()\n",
    "d=df.query(\"상품중분류명 == '여성용의류-SPA'\").groupby(\"ID\")[\"구매금액\"].agg([(\"여성용의류-SPA구매금액\",sum)]).reset_index()\n",
    "e=df.query(\"상품중분류명 == '명품'\").groupby(\"ID\")[\"구매금액\"].agg([(\"명품구매금액\",sum)]).reset_index()\n",
    "f=df.query(\"상품중분류명 == '가공식품'\").groupby(\"ID\")[\"구매금액\"].agg([(\"가공식품구매금액\",sum)]).reset_index()\n",
    "g=df.query(\"상품대분류명 == '가전제품'\").groupby(\"ID\")[\"구매금액\"].agg([(\"가전제품구매금액\",sum)]).reset_index()\n",
    "features = pd.merge(features, a, how='left')\n",
    "features = pd.merge(features, b, how='left')\n",
    "features = pd.merge(features, c, how='left')\n",
    "features = pd.merge(features, d, how='left')\n",
    "features = pd.merge(features, e, how='left')\n",
    "features = pd.merge(features, f, how='left')\n",
    "features = pd.merge(features, g, how='left')\n",
    "\n",
    "features = features.fillna(0)\n",
    "features\n",
    "\n"
   ]
  },
  {
   "cell_type": "markdown",
   "metadata": {},
   "source": [
    "### 상관계수(-1 ~ +1)를 통해 feature 간의 유사성을 파악"
   ]
  },
  {
   "cell_type": "code",
   "execution_count": null,
   "metadata": {
    "scrolled": false
   },
   "outputs": [],
   "source": [
    "plt.figure(figsize=(10,8))\n",
    "sns.heatmap(features.iloc[:,1:].corr(), annot=True, cmap=\"YlGnBu\")\n",
    "plt.show()"
   ]
  },
  {
   "cell_type": "code",
   "execution_count": null,
   "metadata": {
    "scrolled": true
   },
   "outputs": [],
   "source": [
    "# 양의 상관관계가 매우 높음.\n",
    "sns.lmplot(x='구매건수', y='내점일수', data=features, \n",
    "           line_kws={'color':\"green\"}, scatter_kws={'edgecolor':\"white\"})\n",
    "plt.show()"
   ]
  },
  {
   "cell_type": "markdown",
   "metadata": {},
   "source": [
    "### 불필요한 feature 삭제"
   ]
  },
  {
   "cell_type": "code",
   "execution_count": null,
   "metadata": {},
   "outputs": [],
   "source": [
    "features = features.drop(columns='평균구매액')\n",
    "features = features.drop(columns='구매건수')"
   ]
  },
  {
   "cell_type": "markdown",
   "metadata": {},
   "source": [
    "### 표준화"
   ]
  },
  {
   "cell_type": "code",
   "execution_count": null,
   "metadata": {},
   "outputs": [],
   "source": [
    "X = features.iloc[:,1:].apply(lambda x: (x - x.mean()) / x.std()) \n",
    "X"
   ]
  },
  {
   "cell_type": "markdown",
   "metadata": {},
   "source": [
    "## 최적 군집 수(K) 도출"
   ]
  },
  {
   "cell_type": "markdown",
   "metadata": {},
   "source": [
    "### 군집 수에 따른 SSE(군집내 오차제곱합) 계산"
   ]
  },
  {
   "cell_type": "code",
   "execution_count": null,
   "metadata": {},
   "outputs": [],
   "source": [
    "wss = []\n",
    "sis = []\n",
    "for k in range(2,10):\n",
    "    kmeans = KMeans(n_clusters=k, random_state=0)\n",
    "    kmeans.fit(X)\n",
    "    wss = np.append(wss, kmeans.inertia_)"
   ]
  },
  {
   "cell_type": "markdown",
   "metadata": {},
   "source": [
    "### 군집 수에 따른 SSE 시각화"
   ]
  },
  {
   "cell_type": "code",
   "execution_count": null,
   "metadata": {
    "scrolled": false
   },
   "outputs": [],
   "source": [
    "fig, ax = plt.subplots()\n",
    "line = ax.plot(np.arange(2,10), wss, 'go--', label='SSE')\n",
    "ax.set_ylim(wss.min()*0.55, wss.max()*1.05)\n",
    "ax.set_xlabel('군집 수')\n",
    "ax.set_ylabel('SSE')\n",
    "labels = [l.get_label() for l in line]\n",
    "plt.legend(line, labels)\n",
    "plt.show()"
   ]
  },
  {
   "cell_type": "code",
   "execution_count": null,
   "metadata": {},
   "outputs": [],
   "source": [
    "#wss비교\n",
    "wss\n",
    "for i in range(0, 7):\n",
    "    print(wss[i] - wss[i+1])"
   ]
  },
  {
   "cell_type": "code",
   "execution_count": null,
   "metadata": {},
   "outputs": [],
   "source": [
    "best_k = 3"
   ]
  },
  {
   "cell_type": "code",
   "execution_count": null,
   "metadata": {
    "scrolled": true
   },
   "outputs": [],
   "source": [
    "kmeans = KMeans(n_clusters=best_k, random_state=0)\n",
    "kmeans.fit(X)"
   ]
  },
  {
   "cell_type": "code",
   "execution_count": null,
   "metadata": {
    "scrolled": false
   },
   "outputs": [],
   "source": [
    "features['세그먼트'] = kmeans.labels_\n",
    "features"
   ]
  },
  {
   "cell_type": "markdown",
   "metadata": {},
   "source": [
    "### 군집분석을 통한 고객 세분화"
   ]
  },
  {
   "cell_type": "code",
   "execution_count": null,
   "metadata": {
    "scrolled": false
   },
   "outputs": [],
   "source": [
    "plt.figure(figsize=(6,6))\n",
    "features.세그먼트.value_counts().plot.pie(autopct='%.2f%%', figsize=(7,7), \n",
    "                                      startangle=30, legend=False)\n",
    "plt.title(\"군집 비율\")\n",
    "plt.axis('equal')\n",
    "plt.show()"
   ]
  },
  {
   "cell_type": "code",
   "execution_count": null,
   "metadata": {
    "scrolled": true
   },
   "outputs": [],
   "source": [
    "fig, ax = plt.subplots(best_k, 1, figsize=(8,5), sharex=True, sharey=True)\n",
    "ax = ax.ravel()\n",
    "plt.tight_layout() # 자동으로 레이아웃 조정\n",
    "\n",
    "for i in range(kmeans.n_clusters):\n",
    "    ax[i].set_title('cluster %d' % i)\n",
    "    sns.barplot(x=np.arange(X.columns.size), y=kmeans.cluster_centers_[i], ax=ax[i])\n",
    "    ax[i].set_xticks(np.arange(X.columns.size))\n",
    "    ax[i].set_xticklabels(X.columns, rotation=90)"
   ]
  },
  {
   "cell_type": "markdown",
   "metadata": {},
   "source": [
    "# 군집2의 우수성"
   ]
  },
  {
   "cell_type": "code",
   "execution_count": null,
   "metadata": {},
   "outputs": [],
   "source": [
    "df = df.merge(features[[\"ID\", \"세그먼트\"]], on = \"ID\")"
   ]
  },
  {
   "cell_type": "code",
   "execution_count": null,
   "metadata": {},
   "outputs": [],
   "source": [
    "#세그먼트 비율\n",
    "df.groupby(\"세그먼트\")[\"ID\"].nunique().plot.pie(startangle = 90, explode = [0, 0, 0.1], \n",
    "                                            autopct = \"%1.1f%%\", figsize = (8, 8), colors =  ['silver', 'whitesmoke', 'skyblue'])\n",
    "plt.ylabel(\"\")\n",
    "plt.title(\"군집 별 인원비율\", fontsize = 15)\n",
    "plt.show()"
   ]
  },
  {
   "cell_type": "code",
   "execution_count": null,
   "metadata": {},
   "outputs": [],
   "source": [
    "#군집 별 구매액비율\n",
    "df.groupby(\"세그먼트\")[\"구매금액\"].sum().plot.pie(startangle = 90, explode = [0, 0, 0.1],\n",
    "                                          autopct = \"%1.1f%%\", figsize = (8, 8), colors =  ['silver', 'whitesmoke', 'skyblue'])\n",
    "plt.ylabel(\"\")\n",
    "plt.title(\"군집 별 총구매액\", fontsize = 15)\n",
    "plt.show()"
   ]
  },
  {
   "cell_type": "code",
   "execution_count": null,
   "metadata": {},
   "outputs": [],
   "source": [
    "#군집 별 구매액비율\n",
    "df.groupby(\"세그먼트\")[\"구매수량\"].count().plot.pie(startangle = 90, explode = [0, 0, 0.1],\n",
    "                                            autopct = \"%1.1f%%\", figsize = (8, 8), colors =  ['silver', 'whitesmoke', 'skyblue'])\n",
    "plt.ylabel(\"\")\n",
    "plt.title(\"군집 별 거래비중\", fontsize = 15)\n",
    "plt.show()"
   ]
  },
  {
   "cell_type": "code",
   "execution_count": null,
   "metadata": {},
   "outputs": [],
   "source": [
    "df.query(\"세그먼트 == '2'\").등급.value_counts().plot.pie(figsize = (8, 8), autopct = \"%1.1f%%\", colors = [\"skyblue\", \"gray\"])\n",
    "plt.title(\"군집2의 rfm등급 비율\")\n",
    "plt.ylabel(\"\")\n",
    "plt.show()"
   ]
  },
  {
   "cell_type": "markdown",
   "metadata": {},
   "source": [
    "# 타겟시장 구매행태 데이터 분석"
   ]
  },
  {
   "cell_type": "code",
   "execution_count": null,
   "metadata": {},
   "outputs": [],
   "source": [
    "vip = df.query(\"세그먼트 == '2'\")"
   ]
  },
  {
   "cell_type": "code",
   "execution_count": null,
   "metadata": {},
   "outputs": [],
   "source": [
    "# 군집별 가전제품 총구매액\n",
    "pd.pivot_table(df.query(\"상품대분류명 == '가전제품'\"), index = \"세그먼트\", \n",
    "               columns = \"상품중분류명\", values = \"구매금액\", aggfunc = \"sum\").plot(marker = \"o\", markersize = 6)\n",
    "plt.title(\"가전제품 중분류별 총구매액\", fontsize = 15)\n",
    "plt.ylabel(\"제품별 총구매액\")\n",
    "plt.legend(loc = \"upper right\",fontsize=8)\n",
    "plt.show()"
   ]
  },
  {
   "cell_type": "code",
   "execution_count": null,
   "metadata": {},
   "outputs": [],
   "source": [
    "df.query('세그먼트==2').groupby('상품중분류명')['구매금액'].sum().plot(kind='bar', figsize = (8, 6))\n",
    "plt.title('상품중분류별 구매금액(세그먼트2)')\n",
    "plt.show()"
   ]
  },
  {
   "cell_type": "code",
   "execution_count": null,
   "metadata": {},
   "outputs": [],
   "source": [
    "# 요일별 제품군별 총구매액\n",
    "a = pd.pivot_table(vip, index = \"상품중분류명\", columns = \"요일\", values = \"구매금액\", aggfunc = \"sum\", fill_value = 0).T\n",
    "a = a.reindex(['월요일', '화요일', '수요일', '목요일', '금요일', '토요일', '일요일'])\n",
    "plt.figure(figsize=(10,8))\n",
    "sns.heatmap(a.T)\n",
    "plt.title(\"제품별 요일별 총구매액\")\n",
    "plt.show()"
   ]
  },
  {
   "cell_type": "code",
   "execution_count": null,
   "metadata": {},
   "outputs": [],
   "source": [
    "# 제품별 요일별 총구매액\n",
    "b = pd.pivot_table(vip, index = \"상품중분류명\", columns = \"구매시간\", values = \"구매금액\", aggfunc = \"sum\", fill_value = 0)\n",
    "plt.figure(figsize=(10,8))\n",
    "sns.heatmap(b)\n",
    "plt.title(\"제품별 요일별 총구매액\")\n",
    "plt.show()"
   ]
  },
  {
   "cell_type": "code",
   "execution_count": null,
   "metadata": {
    "scrolled": false
   },
   "outputs": [],
   "source": [
    "# 월별 레포츠 상품의 총구매액 비교\n",
    "\n",
    "pd.pivot_table(vip.query(\"상품중분류명 == '골프용품/의류'\"), index = \"월\", columns = \"성별\", \n",
    "               values = \"구매금액\", aggfunc = \"sum\", fill_value = 0).plot.bar(figsize = (8, 6), rot = 0)\n",
    "plt.title(\"골프용품/의류 월별 총구매액\", fontsize = 15)\n",
    "plt.ylabel(\"구매액\")\n",
    "plt.xlabel(\"월\")\n",
    "plt.show()"
   ]
  },
  {
   "cell_type": "code",
   "execution_count": null,
   "metadata": {
    "scrolled": false
   },
   "outputs": [],
   "source": [
    "# 월별 레포츠 상품의 총구매액 비교\n",
    "\n",
    "pd.pivot_table(vip.query(\"상품중분류명 == '여성용의류-SPA'\"), index = \"월\", columns = \"성별\", \n",
    "               values = \"구매금액\", aggfunc = \"sum\", fill_value = 0).plot.bar(figsize = (8, 6), rot = 0)\n",
    "plt.title(\"여성용 SPA의류 월별 총구매액\", fontsize = 15)\n",
    "plt.ylabel(\"구매액\")\n",
    "plt.xlabel(\"월\")\n",
    "plt.show()"
   ]
  },
  {
   "cell_type": "code",
   "execution_count": null,
   "metadata": {},
   "outputs": [],
   "source": [
    "# 전체 상품의 시간대별 구매액\n",
    "\n",
    "vip.groupby(\"구매시간\")[\"구매금액\"].sum().plot(marker = \"o\", figsize = (16, 12))\n",
    "plt.xlabel(\"시간대\")\n",
    "plt.ylabel(\"총구매액\")\n",
    "plt.title(\"시간대별 매출액\")\n",
    "plt.show()"
   ]
  },
  {
   "cell_type": "code",
   "execution_count": null,
   "metadata": {
    "scrolled": true
   },
   "outputs": [],
   "source": [
    "# 식품의 중분류상품별 매출비중\n",
    "\n",
    "f = vip.query(\"상품대분류명 == '식품'\")\n",
    "f.groupby(\"상품중분류명\")[\"구매금액\"].sum().plot.pie(autopct = \"%1.1f%%\", explode = [0.1, 0, 0, 0, 0, 0], figsize = (6, 6))\n",
    "plt.title(\"식품의 중분류상품별 매출비중\")\n",
    "plt.ylabel(\"\")\n",
    "plt.show()"
   ]
  },
  {
   "cell_type": "code",
   "execution_count": null,
   "metadata": {},
   "outputs": [],
   "source": [
    "# 식품의 중분류상품별 거래비중\n",
    "\n",
    "f = vip.query(\"상품대분류명 == '식품'\")\n",
    "f.groupby(\"상품중분류명\")[\"구매금액\"].count().plot.pie(autopct = \"%1.1f%%\", explode = [0.1, 0.2, 0, 0, 0, 0], figsize = (6, 6))\n",
    "plt.title(\"식품의 중분류상품별 거래비중\")\n",
    "plt.ylabel(\"\")\n",
    "plt.show()"
   ]
  },
  {
   "cell_type": "code",
   "execution_count": null,
   "metadata": {},
   "outputs": [],
   "source": [
    "# 식품별 판매단가의 평균\n",
    "\n",
    "f.groupby(\"상품중분류명\")[\"판매단가\"].mean().plot.bar(rot = 0, color = \"skyblue\")\n",
    "plt.title(\"식품 중분류상품별 판매단가\")\n",
    "plt.show()"
   ]
  }
 ],
 "metadata": {
  "kernelspec": {
   "display_name": "Python 3 (ipykernel)",
   "language": "python",
   "name": "python3"
  },
  "language_info": {
   "codemirror_mode": {
    "name": "ipython",
    "version": 3
   },
   "file_extension": ".py",
   "mimetype": "text/x-python",
   "name": "python",
   "nbconvert_exporter": "python",
   "pygments_lexer": "ipython3",
   "version": "3.9.12"
  }
 },
 "nbformat": 4,
 "nbformat_minor": 4
}
